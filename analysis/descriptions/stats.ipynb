{
 "metadata": {
  "language_info": {
   "codemirror_mode": {
    "name": "ipython",
    "version": 3
   },
   "file_extension": ".py",
   "mimetype": "text/x-python",
   "name": "python",
   "nbconvert_exporter": "python",
   "pygments_lexer": "ipython3",
   "version": "3.7.6"
  },
  "orig_nbformat": 2,
  "kernelspec": {
   "name": "python376jvsc74a57bd0afec8bd1b97d7d536c9012edeeda7c68a0e99e84af90a3d324c5b7b0f06b2586",
   "display_name": "Python 3.7.6 64-bit ('base': conda)"
  }
 },
 "nbformat": 4,
 "nbformat_minor": 2,
 "cells": [
  {
   "cell_type": "code",
   "execution_count": 2,
   "metadata": {},
   "outputs": [],
   "source": [
    "import json"
   ]
  },
  {
   "cell_type": "code",
   "execution_count": 4,
   "metadata": {},
   "outputs": [],
   "source": [
    "tu = json.load(open('../../data/json/depositonce/descriptions.json'))\n",
    "tu_p = json.load(open('../../data/json/depositonce/processed_descriptions.json'))\n",
    "hu = json.load(open('../../data/json/edoc/descriptions.json'))\n",
    "hu_p = json.load(open('../../data/json/edoc/processed_descriptions.json'))\n",
    "fu = json.load(open('../../data/json/refubium/descriptions.json'))\n",
    "fu_p = json.load(open('../../data/json/refubium/processed_descriptions.json'))\n",
    "all = dict(tu, **hu, **fu)\n",
    "all_p = dict(tu_p, **hu_p, **fu_p)"
   ]
  },
  {
   "cell_type": "code",
   "execution_count": 5,
   "metadata": {},
   "outputs": [],
   "source": [
    "def get_stats(data, name):\n",
    "    no_desc, more_descs, total = 0, 0, 0\n",
    "    for key in data:\n",
    "        total += len(data[key])\n",
    "        no_desc += len(data[key]) == 0\n",
    "        more_descs += len(data[key]) > 1\n",
    "    return (\n",
    "        name,\n",
    "        str(len(data)),\n",
    "        str(round(total/len(data), 2)),\n",
    "        str(round((no_desc/len(data))*100)) + \"%\",\n",
    "        str(round((more_descs/len(data))*100)) + \"%\",\n",
    "    )"
   ]
  },
  {
   "cell_type": "code",
   "execution_count": 10,
   "metadata": {},
   "outputs": [
    {
     "output_type": "stream",
     "name": "stdout",
     "text": [
      "Name\t#\tAvg.\tZero\tMore\nTU\t11275\t1.98\t1%\t76%\nTU-P.\t11275\t1.08\t10%\t15%\nHU\t22053\t1.11\t26%\t35%\nHU-P.\t22053\t0.45\t55%\t0%\nFU\t28452\t1.69\t5%\t58%\nFU-P.\t28452\t0.93\t11%\t4%\nAll\t61780\t1.54\t12%\t53%\nAll-P.\t61780\t0.79\t26%\t5%\n"
     ]
    }
   ],
   "source": [
    "print(\"Name\\t#\\tAvg.\\tZero\\tMore\")\n",
    "for data in (\n",
    "    get_stats(tu, 'TU'), get_stats(tu_p, 'TU-P.'),\n",
    "    get_stats(hu, 'HU'), get_stats(hu_p, 'HU-P.'),\n",
    "    get_stats(fu, 'FU'), get_stats(fu_p, 'FU-P.'),\n",
    "    get_stats(all, 'All'), get_stats(all_p, 'All-P.')\n",
    "):\n",
    "    print(\"\\t\".join(data))"
   ]
  },
  {
   "source": [
    "Names with \"-P:\" refer to processed descriptions, were german texts, links and numbers s.a. dates have been removed (see cluster_descriptions.py). <br>\n",
    "\\# refers to the total number of publications (not descriptions) in the list. <br>\n",
    "Avg. refers to the avg. number of descriptions per publication. <br>\n",
    "Zero refers to the pctg. of publications with no description. <br>\n",
    "More refers to the pctg. of publications with more than one description."
   ],
   "cell_type": "markdown",
   "metadata": {}
  },
  {
   "cell_type": "code",
   "execution_count": null,
   "metadata": {},
   "outputs": [],
   "source": []
  }
 ]
}