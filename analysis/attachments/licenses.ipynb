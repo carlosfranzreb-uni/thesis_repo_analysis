{
 "metadata": {
  "language_info": {
   "codemirror_mode": {
    "name": "ipython",
    "version": 3
   },
   "file_extension": ".py",
   "mimetype": "text/x-python",
   "name": "python",
   "nbconvert_exporter": "python",
   "pygments_lexer": "ipython3",
   "version": "3.7.6"
  },
  "orig_nbformat": 2,
  "kernelspec": {
   "name": "python376jvsc74a57bd0afec8bd1b97d7d536c9012edeeda7c68a0e99e84af90a3d324c5b7b0f06b2586",
   "display_name": "Python 3.7.6 64-bit ('base': conda)"
  }
 },
 "nbformat": 4,
 "nbformat_minor": 2,
 "cells": [
  {
   "cell_type": "code",
   "execution_count": 1,
   "metadata": {},
   "outputs": [],
   "source": [
    "import os\n",
    "import json\n",
    "from collections import Counter\n",
    "from matplotlib import pyplot as plt"
   ]
  },
  {
   "cell_type": "code",
   "execution_count": 3,
   "metadata": {},
   "outputs": [],
   "source": [
    "tu = json.load(open('../../data/json/depositonce/rights.json'))\n",
    "hu = json.load(open('../../data/json/edoc/rights.json'))\n",
    "fu = json.load(open('../../data/json/refubium/rights.json'))\n",
    "all = tu.copy()\n",
    "for repo in (hu, fu):\n",
    "    for k in repo:\n",
    "        if k in all:\n",
    "            all[k] += repo[k]\n",
    "        else:\n",
    "            all[k] = repo[k]\n",
    "tu_r = json.load(open('../../data/json/depositonce/rights_reversed.json'))\n",
    "hu_r = json.load(open('../../data/json/edoc/rights_reversed.json'))\n",
    "fu_r = json.load(open('../../data/json/refubium/rights_reversed.json'))\n",
    "all_r = tu.copy()\n",
    "for repo_r in (hu_r, fu_r):\n",
    "    for k in repo_r:\n",
    "        if k in all_r:\n",
    "            all_r[k] += repo_r[k]\n",
    "        else:\n",
    "            all_r[k] = repo_r[k]"
   ]
  },
  {
   "cell_type": "code",
   "execution_count": 13,
   "metadata": {},
   "outputs": [
    {
     "output_type": "execute_result",
     "data": {
      "text/plain": [
       "[('http://www.fu-berlin.de/sites/refubium/rechtliches/Nutzungsbedingungen',\n",
       "  20128),\n",
       " ('http://rightsstatements.org/vocab/InC/1.0/', 6613),\n",
       " ('https://creativecommons.org/licenses/by/4.0/', 5960),\n",
       " ('http://creativecommons.org/licenses/by/4.0/', 2174),\n",
       " ('http://creativecommons.org/licenses/by-nc-nd/3.0/de/', 1883),\n",
       " ('https://creativecommons.org/licenses/by-nc-nd/4.0/', 1336),\n",
       " ('Namensnennung - Keine kommerzielle Nutzung - Keine Bearbeitung', 1169),\n",
       " ('(CC BY 4.0) Attribution 4.0 International', 838),\n",
       " ('http://creativecommons.org/licenses/by/3.0/de/', 621),\n",
       " ('https://creativecommons.org/licenses/by-nc/4.0/', 620)]"
      ]
     },
     "metadata": {},
     "execution_count": 13
    }
   ],
   "source": [
    "all_cnt = Counter({k: len(v) for k, v in all.items()})\n",
    "all_cnt.most_common(10)"
   ]
  },
  {
   "source": [
    "Looking at these licenses, I couldn't find any constraint to text mining uses, but several papers mention the legal barriers to text mining.\n"
   ],
   "cell_type": "markdown",
   "metadata": {}
  }
 ]
}