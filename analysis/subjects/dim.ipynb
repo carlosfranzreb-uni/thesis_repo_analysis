{
 "metadata": {
  "language_info": {
   "codemirror_mode": {
    "name": "ipython",
    "version": 3
   },
   "file_extension": ".py",
   "mimetype": "text/x-python",
   "name": "python",
   "nbconvert_exporter": "python",
   "pygments_lexer": "ipython3",
   "version": "3.7.6"
  },
  "orig_nbformat": 2,
  "kernelspec": {
   "name": "python376jvsc74a57bd0afec8bd1b97d7d536c9012edeeda7c68a0e99e84af90a3d324c5b7b0f06b2586",
   "display_name": "Python 3.7.6 64-bit ('base': conda)"
  }
 },
 "nbformat": 4,
 "nbformat_minor": 2,
 "cells": [
  {
   "source": [
    "Here I want to analyse how many subjects there are per language, identify how many documents have the same subject set in both languages by checking if a document has the same number of subjects for each language."
   ],
   "cell_type": "markdown",
   "metadata": {}
  },
  {
   "cell_type": "code",
   "execution_count": 1,
   "metadata": {},
   "outputs": [],
   "source": [
    "import json"
   ]
  },
  {
   "cell_type": "code",
   "execution_count": 2,
   "metadata": {},
   "outputs": [],
   "source": [
    "repo = 'depositonce'\n",
    "docs = json.load(open(f'../../data/json/dim/{repo}/subjects.json'))\n",
    "subjects = json.load(open(f'../../data/json/dim/{repo}/subjects_reversed.json'))"
   ]
  },
  {
   "cell_type": "code",
   "execution_count": 3,
   "metadata": {},
   "outputs": [
    {
     "output_type": "stream",
     "name": "stdout",
     "text": [
      "# of subjects per language\nde: 21902\nen: 34232\nother: 96\nunknown: 51\nTotal: 56281\n"
     ]
    }
   ],
   "source": [
    "print('# of subjects per language')\n",
    "total = 0\n",
    "for key in subjects:\n",
    "    total += len(subjects[key])\n",
    "    print(f'{key}: {len(subjects[key])}')\n",
    "print(f'Total: {total}')"
   ]
  },
  {
   "cell_type": "code",
   "execution_count": 4,
   "metadata": {},
   "outputs": [],
   "source": [
    "def cnt_docs(doc, lang):\n",
    "    cnt = 0\n",
    "    for subject_type in doc:\n",
    "        cnt += len(doc[subject_type][lang])\n",
    "    return cnt"
   ]
  },
  {
   "cell_type": "code",
   "execution_count": 5,
   "metadata": {},
   "outputs": [
    {
     "output_type": "stream",
     "name": "stdout",
     "text": [
      "Out of the 11505 documents, 788 of them have the same number of english subjects as they have german subjects. A probable cause of this is that ones are the translations of the others.\n"
     ]
    }
   ],
   "source": [
    "cnt = 0\n",
    "for id in docs:\n",
    "    if cnt_docs(docs[id], 'de') == cnt_docs(docs[id], 'en'):\n",
    "        cnt += 1\n",
    "print(f'Out of the {len(docs)} documents, {cnt} of them have the same number of english subjects as they have german subjects. A probable cause of this is that ones are the translations of the others.')"
   ]
  },
  {
   "cell_type": "code",
   "execution_count": 16,
   "metadata": {},
   "outputs": [],
   "source": [
    "def extract_numbers(text):\n",
    "    numbers = []\n",
    "    n = ''\n",
    "    for char in text:\n",
    "        if char.isdigit():\n",
    "            n += char\n",
    "        elif len(n) > 0:\n",
    "            if char == '.':\n",
    "                n += char\n",
    "            else:\n",
    "                numbers.append(n)\n",
    "                n = ''\n",
    "    if len(n) > 0:\n",
    "        numbers.append(n)\n",
    "        n = ''\n",
    "    return numbers"
   ]
  },
  {
   "cell_type": "code",
   "execution_count": 23,
   "metadata": {},
   "outputs": [
    {
     "output_type": "stream",
     "name": "stdout",
     "text": [
      "Out of the 11505 documents, 11494 of them have at least one DDC subject (99.9 %).\nIn total there are 13141 DDC subjects, resulting in an avg. of 1.14 per document.\n1896 of the subjects (with duplicates) end in 00\n8324 of the subjects (with duplicates) end in 0\n2940 of the subjects (with duplicates) are more specific than that\n"
     ]
    }
   ],
   "source": [
    "at_least, total, cnt_0, cnt_00, cnt = 0, 0, 0, 0, 0\n",
    "for id in docs:\n",
    "    ddcs = sum(docs[id]['ddc'].values(), [])\n",
    "    at_least += len(ddcs) > 0\n",
    "    total += len(ddcs)\n",
    "    for ddc in ddcs:\n",
    "        for n in extract_numbers(ddc):\n",
    "            if n[-2:] == '00':\n",
    "                cnt_00 += 1\n",
    "            elif n[-1:] == '0':\n",
    "                cnt_0 += 1\n",
    "            else:\n",
    "                cnt += 1\n",
    "print(f'Out of the {len(docs)} documents, {at_least} of them have at least one DDC subject ({round(100*at_least/len(docs), 2)} %).')\n",
    "print(f'In total there are {total} DDC subjects, resulting in an avg. of {round(total/len(docs), 2)} per document.')\n",
    "print(f'{cnt_00} of the subjects (with duplicates) end in 00')\n",
    "print(f'{cnt_0} of the subjects (with duplicates) end in 0')\n",
    "print(f'{cnt} of the subjects (with duplicates) are more specific than that')"
   ]
  },
  {
   "cell_type": "code",
   "execution_count": null,
   "metadata": {},
   "outputs": [],
   "source": []
  }
 ]
}