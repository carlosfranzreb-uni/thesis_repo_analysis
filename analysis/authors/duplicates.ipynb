{
 "metadata": {
  "language_info": {
   "codemirror_mode": {
    "name": "ipython",
    "version": 3
   },
   "file_extension": ".py",
   "mimetype": "text/x-python",
   "name": "python",
   "nbconvert_exporter": "python",
   "pygments_lexer": "ipython3",
   "version": "3.7.6"
  },
  "orig_nbformat": 2,
  "kernelspec": {
   "name": "python376jvsc74a57bd0afec8bd1b97d7d536c9012edeeda7c68a0e99e84af90a3d324c5b7b0f06b2586",
   "display_name": "Python 3.7.6 64-bit ('base': conda)"
  }
 },
 "nbformat": 4,
 "nbformat_minor": 2,
 "cells": [
  {
   "source": [
    "Some authors seem to be named in different ways, meaning that there are several authors in the repositories that refer to the same person. Here I will try to identify them by looking at their last names and their initials."
   ],
   "cell_type": "markdown",
   "metadata": {}
  },
  {
   "cell_type": "code",
   "execution_count": 1,
   "metadata": {},
   "outputs": [],
   "source": [
    "import json\n",
    "from matplotlib import pyplot as plt\n",
    "from collections import Counter, defaultdict"
   ]
  },
  {
   "cell_type": "code",
   "execution_count": 2,
   "metadata": {},
   "outputs": [],
   "source": [
    "tu = json.load(open('../../data/json/depositonce/authors.json'))\n",
    "hu = json.load(open('../../data/json/edoc/authors.json'))\n",
    "fu = json.load(open('../../data/json/refubium/authors.json'))\n",
    "all = tu.copy()\n",
    "for repo in (hu, fu):\n",
    "    for k in repo:\n",
    "        if k in all:\n",
    "            all[k] += repo[k]\n",
    "        else:\n",
    "            all[k] = repo[k]\n",
    "tu_r = json.load(open('../../data/json/depositonce/authors_reversed.json'))\n",
    "hu_r = json.load(open('../../data/json/edoc/authors_reversed.json'))\n",
    "fu_r = json.load(open('../../data/json/refubium/authors_reversed.json'))\n",
    "all_r = tu.copy()\n",
    "for repo_r in (hu_r, fu_r):\n",
    "    for k in repo_r:\n",
    "        if k in all_r:\n",
    "            all_r[k] += repo_r[k]\n",
    "        else:\n",
    "            all_r[k] = repo_r[k]"
   ]
  },
  {
   "cell_type": "code",
   "execution_count": 3,
   "metadata": {},
   "outputs": [
    {
     "output_type": "stream",
     "name": "stdout",
     "text": [
      "Tran Ngoc Huan\nNguyen Xuan Truong\nVu Thi Ngan\nMinh Tho Nguyen\nZhou Lian\nLu Huimin\nOuyang Zhaofei\nAG Elektronisches Publizieren\nN/A\nDeutsche Iniative für Netzwerkinformation e. V.\nStabsstelle Qualitätsmanagement\nHubert Truckenbrodt\nGantert Klaus\nSEiSMiC Deutschland\nJörg Mischke\nSilvio Vietta\nThe ENROPE Group\nDINI-AG/ZKI-Kommission »E-Framework«\nBaayem R. Harald\nBatunacun\nJohn Shepherd\nForschungsdatenzentrum am Institut zur Qualitätsentwicklung\nSimon Frith\nLyna\nHamann\nPeter Wicke\nSusanne Binas\nStróżecka. A.\nPfeiffer; M.\nSenat von Berlin\nBernardo da Bologna\nAktas. Orhan\nTuan Ngoc Minh Nguyen;\nWilliam F. Lamb\nESADA Study Group\nRegitz-Zagrosek\nRemi Nguyen\nWerner J.\nMuhaimin\nSung Min Pyo\nHurlbert Margot\nGao\nStreubel. Dora\nAuthor Full Names\nJosef-Gerhard Farkas\nGabriele Farkas\nVu Van Loi\nManon Urbain\nPhaedrus\nFalk\nMartina Sproll\ndesiguALdades.net Research Network on Interdependent Inequalities in Latin\nAmerica\nMaschiob. Lorenzo\nDuy Tin Truong\nTina Dohrmann\nSchittko Conrad\nAnti-Nautikus\nAltarche-Xifró\nPeter Miltner\nDaniel Maier\nBarbara Pfetsch\nAnnie Waldherr\nCOVID-19 Survey Study group\nThomas Bernauer\nLiam F. McGrath\nPapst Pius V.\nPapst Klemens VIII.\nPapst Urban VIII.\nSemenov. Alexey Yu.\nParmanand\nAarti\nTuan Ngoc Minh Nguyen\nHanh Thi Tran\nMinh Thi Hong Le\nPeter M. Muck\nVíctor A. Lórenz-Fonfría\nZong Zhiyong\nNicholas A. Ashford/ MIT ; Ralph P. Hall/ Virginia Tech\nKalyanikrishna\nPapst Pius XI.\n80 authors (out of 87,989) don't have a comma in their names\n"
     ]
    }
   ],
   "source": [
    "cnt = 0\n",
    "for author in all:\n",
    "    if ',' not in author:\n",
    "        print(author)\n",
    "        cnt += 1\n",
    "print(f'{cnt} authors (out of 87,989) don\\'t have a comma in their names')"
   ]
  },
  {
   "cell_type": "code",
   "execution_count": 4,
   "metadata": {
    "tags": []
   },
   "outputs": [],
   "source": [
    "authors = []\n",
    "for author in all:\n",
    "    if ',' in author:\n",
    "        last_name, first_name = author.split(',', 1)\n",
    "    elif ' ' in author:\n",
    "        last_name, first_name = author.rsplit(' ', 1)\n",
    "    else:\n",
    "        authors.append(author)\n",
    "        continue\n",
    "    first_names = [f[0] for f in first_name.split(' ') if f != '']\n",
    "    first_initials = '. '.join(first_names) + '.'\n",
    "    if first_name[1:] == first_initials:\n",
    "        first_name = None\n",
    "    authors.append((first_name, last_name, first_initials))"
   ]
  },
  {
   "cell_type": "code",
   "execution_count": 17,
   "metadata": {
    "tags": []
   },
   "outputs": [],
   "source": [
    "duplicates = defaultdict(list)\n",
    "for i in range(len(authors)):\n",
    "    for j in range(i+1, len(authors)):\n",
    "        if authors[i][1] == authors[j][1] and authors[i][2] == authors[j][2]:\n",
    "            if authors[i][0] is not None and authors[j][0] is not None:\n",
    "                if authors[i][0] != authors[j][0]:\n",
    "                    continue\n",
    "            duplicates[authors[i]].append(authors[j])\n"
   ]
  },
  {
   "cell_type": "code",
   "execution_count": 23,
   "metadata": {},
   "outputs": [
    {
     "output_type": "execute_result",
     "data": {
      "text/plain": [
       "4134"
      ]
     },
     "metadata": {},
     "execution_count": 23
    }
   ],
   "source": [
    "sum([len(v) for v in duplicates.values()])"
   ]
  }
 ]
}