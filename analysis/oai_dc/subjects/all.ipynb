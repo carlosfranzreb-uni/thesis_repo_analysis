{
 "metadata": {
  "language_info": {
   "codemirror_mode": {
    "name": "ipython",
    "version": 3
   },
   "file_extension": ".py",
   "mimetype": "text/x-python",
   "name": "python",
   "nbconvert_exporter": "python",
   "pygments_lexer": "ipython3",
   "version": "3.7.6"
  },
  "orig_nbformat": 2,
  "kernelspec": {
   "name": "python3",
   "display_name": "Python 3.7.6 64-bit ('base': conda)",
   "metadata": {
    "interpreter": {
     "hash": "afec8bd1b97d7d536c9012edeeda7c68a0e99e84af90a3d324c5b7b0f06b2586"
    }
   }
  }
 },
 "nbformat": 4,
 "nbformat_minor": 2,
 "cells": [
  {
   "cell_type": "code",
   "execution_count": 9,
   "metadata": {},
   "outputs": [],
   "source": [
    "import json\n",
    "from matplotlib import pyplot as plt"
   ]
  },
  {
   "cell_type": "code",
   "execution_count": 10,
   "metadata": {},
   "outputs": [],
   "source": [
    "depositonce = json.load(open('../../data/json/depositonce/subjects.json'))  # dict of subjects (keys) and the list of publications they appear in (values).\n",
    "edoc = json.load(open('../../data/json/edoc/subjects.json'))\n",
    "refubium = json.load(open('../../data/json/refubium/subjects.json'))\n",
    "subjects = depositonce.copy()\n",
    "for subject in edoc:\n",
    "    if subject in subjects:\n",
    "        subjects[subject] += edoc[subject]\n",
    "    else:\n",
    "        subjects[subject] = edoc[subject]\n",
    "for subject in refubium:\n",
    "    if subject in subjects:\n",
    "        subjects[subject] += refubium[subject]\n",
    "    else:\n",
    "        subjects[subject] = refubium[subject]\n",
    "counts = {subject: len(subjects[subject]) for subject in subjects}  # same as subjects, but the length of the list as values.\n",
    "sorted_counts = {k: v for k, v in sorted(counts.items(), key=lambda item: item[1], reverse=True)}"
   ]
  },
  {
   "cell_type": "code",
   "execution_count": 11,
   "metadata": {},
   "outputs": [],
   "source": [
    "subject_sizes = dict()\n",
    "for subject, cnt in counts.items():\n",
    "    if cnt not in subject_sizes:\n",
    "        subject_sizes[cnt] = 0\n",
    "    subject_sizes[cnt] += 1\n",
    "sorted_sizes = sorted(subject_sizes.items())"
   ]
  },
  {
   "cell_type": "code",
   "execution_count": 12,
   "metadata": {},
   "outputs": [
    {
     "output_type": "stream",
     "name": "stdout",
     "text": [
      "In total, there are 174496 subjects in the repository.\n131934 of them appear only once in the repository, i.e. only one publication mentions it.\n"
     ]
    }
   ],
   "source": [
    "print(f'In total, there are {len(counts)} subjects in the repository.')\n",
    "print(f'{sorted_sizes[0][1]} of them appear only once in the repository, i.e. only one publication mentions it.')"
   ]
  },
  {
   "cell_type": "code",
   "execution_count": 13,
   "metadata": {
    "tags": []
   },
   "outputs": [
    {
     "output_type": "stream",
     "name": "stdout",
     "text": [
      "These are the three most popular subjects:\n\"ddc:610\" appears in 12154 publications\n\"ddc:570\" appears in 2973 publications\n\"ddc:530\" appears in 2788 publications\n"
     ]
    }
   ],
   "source": [
    "print('These are the three most popular subjects:')\n",
    "n = 0\n",
    "for subject, cnt in sorted_counts.items():\n",
    "    print(f'\"{subject}\" appears in {cnt} publications')\n",
    "    n += 1\n",
    "    if n == 3: break"
   ]
  },
  {
   "source": [
    "These subjects (which are the only ones that appear in more than 1,000 publications) are very general and wouldn't be of use for a recommender system."
   ],
   "cell_type": "markdown",
   "metadata": {}
  },
  {
   "cell_type": "code",
   "execution_count": 14,
   "metadata": {},
   "outputs": [
    {
     "output_type": "display_data",
     "data": {
      "text/plain": "<Figure size 432x288 with 1 Axes>",
      "image/svg+xml": "<?xml version=\"1.0\" encoding=\"utf-8\" standalone=\"no\"?>\r\n<!DOCTYPE svg PUBLIC \"-//W3C//DTD SVG 1.1//EN\"\r\n  \"http://www.w3.org/Graphics/SVG/1.1/DTD/svg11.dtd\">\r\n<!-- Created with matplotlib (https://matplotlib.org/) -->\r\n<svg height=\"231.84pt\" version=\"1.1\" viewBox=\"0 0 245.484407 231.84\" width=\"245.484407pt\" xmlns=\"http://www.w3.org/2000/svg\" xmlns:xlink=\"http://www.w3.org/1999/xlink\">\r\n <defs>\r\n  <style type=\"text/css\">\r\n*{stroke-linecap:butt;stroke-linejoin:round;}\r\n  </style>\r\n </defs>\r\n <g id=\"figure_1\">\r\n  <g id=\"patch_1\">\r\n   <path d=\"M 0 231.84 \r\nL 245.484407 231.84 \r\nL 245.484407 0 \r\nL 0 0 \r\nz\r\n\" style=\"fill:none;\"/>\r\n  </g>\r\n  <g id=\"axes_1\">\r\n   <g id=\"patch_2\">\r\n    <path d=\"M 202.896 115.92 \r\nC 202.896 107.296081 201.613371 98.719919 199.090262 90.47335 \r\nC 196.567154 82.22678 192.831512 74.401139 188.006099 67.253596 \r\nC 183.180686 60.106053 177.318946 53.715772 170.613511 48.292754 \r\nC 163.908076 42.869736 156.433213 38.474044 148.434565 35.250132 \r\nC 140.435916 32.02622 132.002073 30.009794 123.410192 29.26712 \r\nC 114.818311 28.524446 106.163553 29.063749 97.730335 30.867307 \r\nC 89.297117 32.670864 81.178842 35.7187 73.642298 39.910655 \r\nC 66.105755 44.10261 59.234413 49.392256 53.254083 55.605761 \r\nC 47.273754 61.819265 42.250673 68.887811 38.349911 76.579108 \r\nC 34.449149 84.270404 31.713909 92.499265 30.234079 100.995269 \r\nC 28.75425 109.491273 28.54622 118.160322 29.616825 126.717529 \r\nC 30.687431 135.274735 33.024816 143.625324 36.552166 151.494871 \r\nC 40.079516 159.364419 44.757765 166.665767 50.433173 173.158973 \r\nC 56.108581 179.652179 62.718289 185.265328 70.045087 189.813957 \r\nC 77.371884 194.362586 85.334621 197.796316 93.671622 200.002306 \r\nC 102.008623 202.208297 110.627551 203.162115 119.245166 202.832415 \r\nL 115.92 115.92 \r\nL 202.896 115.92 \r\nz\r\n\" style=\"fill:#1f77b4;\"/>\r\n   </g>\r\n   <g id=\"patch_3\">\r\n    <path d=\"M 119.245166 202.832415 \r\nC 130.423589 202.404742 141.415244 199.824453 151.616291 195.233299 \r\nC 161.817337 190.642146 171.037489 184.125769 178.770227 176.042155 \r\nL 115.92 115.92 \r\nL 119.245166 202.832415 \r\nz\r\n\" style=\"fill:#ff7f0e;\"/>\r\n   </g>\r\n   <g id=\"patch_4\">\r\n    <path d=\"M 178.770227 176.042155 \r\nC 181.440119 173.251116 183.921132 170.285327 186.196787 167.164491 \r\nC 188.472441 164.043654 190.537686 160.774695 192.378803 157.379329 \r\nL 115.92 115.92 \r\nL 178.770227 176.042155 \r\nz\r\n\" style=\"fill:#2ca02c;\"/>\r\n   </g>\r\n   <g id=\"patch_5\">\r\n    <path d=\"M 192.378803 157.379329 \r\nC 195.816522 151.039529 198.452409 144.296699 200.225711 137.306251 \r\nC 201.999013 130.315802 202.896001 123.131857 202.896 115.919994 \r\nL 115.92 115.92 \r\nL 192.378803 157.379329 \r\nz\r\n\" style=\"fill:#d62728;\"/>\r\n   </g>\r\n   <g id=\"matplotlib.axis_1\"/>\r\n   <g id=\"matplotlib.axis_2\"/>\r\n   <g id=\"text_1\">\r\n    <!-- 1 -->\r\n    <defs>\r\n     <path d=\"M 12.40625 8.296875 \r\nL 28.515625 8.296875 \r\nL 28.515625 63.921875 \r\nL 10.984375 60.40625 \r\nL 10.984375 69.390625 \r\nL 28.421875 72.90625 \r\nL 38.28125 72.90625 \r\nL 38.28125 8.296875 \r\nL 54.390625 8.296875 \r\nL 54.390625 0 \r\nL 12.40625 0 \r\nz\r\n\" id=\"DejaVuSans-49\"/>\r\n    </defs>\r\n    <g transform=\"translate(40.624992 52.333712)scale(0.1 -0.1)\">\r\n     <use xlink:href=\"#DejaVuSans-49\"/>\r\n    </g>\r\n   </g>\r\n   <g id=\"text_2\">\r\n    <!-- 2 -->\r\n    <defs>\r\n     <path d=\"M 19.1875 8.296875 \r\nL 53.609375 8.296875 \r\nL 53.609375 0 \r\nL 7.328125 0 \r\nL 7.328125 8.296875 \r\nQ 12.9375 14.109375 22.625 23.890625 \r\nQ 32.328125 33.6875 34.8125 36.53125 \r\nQ 39.546875 41.84375 41.421875 45.53125 \r\nQ 43.3125 49.21875 43.3125 52.78125 \r\nQ 43.3125 58.59375 39.234375 62.25 \r\nQ 35.15625 65.921875 28.609375 65.921875 \r\nQ 23.96875 65.921875 18.8125 64.3125 \r\nQ 13.671875 62.703125 7.8125 59.421875 \r\nL 7.8125 69.390625 \r\nQ 13.765625 71.78125 18.9375 73 \r\nQ 24.125 74.21875 28.421875 74.21875 \r\nQ 39.75 74.21875 46.484375 68.546875 \r\nQ 53.21875 62.890625 53.21875 53.421875 \r\nQ 53.21875 48.921875 51.53125 44.890625 \r\nQ 49.859375 40.875 45.40625 35.40625 \r\nQ 44.1875 33.984375 37.640625 27.21875 \r\nQ 31.109375 20.453125 19.1875 8.296875 \r\nz\r\n\" id=\"DejaVuSans-50\"/>\r\n    </defs>\r\n    <g transform=\"translate(155.18592 205.924004)scale(0.1 -0.1)\">\r\n     <use xlink:href=\"#DejaVuSans-50\"/>\r\n    </g>\r\n   </g>\r\n   <g id=\"text_3\">\r\n    <!-- 3 -->\r\n    <defs>\r\n     <path d=\"M 40.578125 39.3125 \r\nQ 47.65625 37.796875 51.625 33 \r\nQ 55.609375 28.21875 55.609375 21.1875 \r\nQ 55.609375 10.40625 48.1875 4.484375 \r\nQ 40.765625 -1.421875 27.09375 -1.421875 \r\nQ 22.515625 -1.421875 17.65625 -0.515625 \r\nQ 12.796875 0.390625 7.625 2.203125 \r\nL 7.625 11.71875 \r\nQ 11.71875 9.328125 16.59375 8.109375 \r\nQ 21.484375 6.890625 26.8125 6.890625 \r\nQ 36.078125 6.890625 40.9375 10.546875 \r\nQ 45.796875 14.203125 45.796875 21.1875 \r\nQ 45.796875 27.640625 41.28125 31.265625 \r\nQ 36.765625 34.90625 28.71875 34.90625 \r\nL 20.21875 34.90625 \r\nL 20.21875 43.015625 \r\nL 29.109375 43.015625 \r\nQ 36.375 43.015625 40.234375 45.921875 \r\nQ 44.09375 48.828125 44.09375 54.296875 \r\nQ 44.09375 59.90625 40.109375 62.90625 \r\nQ 36.140625 65.921875 28.71875 65.921875 \r\nQ 24.65625 65.921875 20.015625 65.03125 \r\nQ 15.375 64.15625 9.8125 62.3125 \r\nL 9.8125 71.09375 \r\nQ 15.4375 72.65625 20.34375 73.4375 \r\nQ 25.25 74.21875 29.59375 74.21875 \r\nQ 40.828125 74.21875 47.359375 69.109375 \r\nQ 53.90625 64.015625 53.90625 55.328125 \r\nQ 53.90625 49.265625 50.4375 45.09375 \r\nQ 46.96875 40.921875 40.578125 39.3125 \r\nz\r\n\" id=\"DejaVuSans-51\"/>\r\n    </defs>\r\n    <g transform=\"translate(193.224465 175.048315)scale(0.1 -0.1)\">\r\n     <use xlink:href=\"#DejaVuSans-51\"/>\r\n    </g>\r\n   </g>\r\n   <g id=\"text_4\">\r\n    <!-- larger -->\r\n    <defs>\r\n     <path d=\"M 9.421875 75.984375 \r\nL 18.40625 75.984375 \r\nL 18.40625 0 \r\nL 9.421875 0 \r\nz\r\n\" id=\"DejaVuSans-108\"/>\r\n     <path d=\"M 34.28125 27.484375 \r\nQ 23.390625 27.484375 19.1875 25 \r\nQ 14.984375 22.515625 14.984375 16.5 \r\nQ 14.984375 11.71875 18.140625 8.90625 \r\nQ 21.296875 6.109375 26.703125 6.109375 \r\nQ 34.1875 6.109375 38.703125 11.40625 \r\nQ 43.21875 16.703125 43.21875 25.484375 \r\nL 43.21875 27.484375 \r\nz\r\nM 52.203125 31.203125 \r\nL 52.203125 0 \r\nL 43.21875 0 \r\nL 43.21875 8.296875 \r\nQ 40.140625 3.328125 35.546875 0.953125 \r\nQ 30.953125 -1.421875 24.3125 -1.421875 \r\nQ 15.921875 -1.421875 10.953125 3.296875 \r\nQ 6 8.015625 6 15.921875 \r\nQ 6 25.140625 12.171875 29.828125 \r\nQ 18.359375 34.515625 30.609375 34.515625 \r\nL 43.21875 34.515625 \r\nL 43.21875 35.40625 \r\nQ 43.21875 41.609375 39.140625 45 \r\nQ 35.0625 48.390625 27.6875 48.390625 \r\nQ 23 48.390625 18.546875 47.265625 \r\nQ 14.109375 46.140625 10.015625 43.890625 \r\nL 10.015625 52.203125 \r\nQ 14.9375 54.109375 19.578125 55.046875 \r\nQ 24.21875 56 28.609375 56 \r\nQ 40.484375 56 46.34375 49.84375 \r\nQ 52.203125 43.703125 52.203125 31.203125 \r\nz\r\n\" id=\"DejaVuSans-97\"/>\r\n     <path d=\"M 41.109375 46.296875 \r\nQ 39.59375 47.171875 37.8125 47.578125 \r\nQ 36.03125 48 33.890625 48 \r\nQ 26.265625 48 22.1875 43.046875 \r\nQ 18.109375 38.09375 18.109375 28.8125 \r\nL 18.109375 0 \r\nL 9.078125 0 \r\nL 9.078125 54.6875 \r\nL 18.109375 54.6875 \r\nL 18.109375 46.1875 \r\nQ 20.953125 51.171875 25.484375 53.578125 \r\nQ 30.03125 56 36.53125 56 \r\nQ 37.453125 56 38.578125 55.875 \r\nQ 39.703125 55.765625 41.0625 55.515625 \r\nz\r\n\" id=\"DejaVuSans-114\"/>\r\n     <path d=\"M 45.40625 27.984375 \r\nQ 45.40625 37.75 41.375 43.109375 \r\nQ 37.359375 48.484375 30.078125 48.484375 \r\nQ 22.859375 48.484375 18.828125 43.109375 \r\nQ 14.796875 37.75 14.796875 27.984375 \r\nQ 14.796875 18.265625 18.828125 12.890625 \r\nQ 22.859375 7.515625 30.078125 7.515625 \r\nQ 37.359375 7.515625 41.375 12.890625 \r\nQ 45.40625 18.265625 45.40625 27.984375 \r\nz\r\nM 54.390625 6.78125 \r\nQ 54.390625 -7.171875 48.1875 -13.984375 \r\nQ 42 -20.796875 29.203125 -20.796875 \r\nQ 24.46875 -20.796875 20.265625 -20.09375 \r\nQ 16.0625 -19.390625 12.109375 -17.921875 \r\nL 12.109375 -9.1875 \r\nQ 16.0625 -11.328125 19.921875 -12.34375 \r\nQ 23.78125 -13.375 27.78125 -13.375 \r\nQ 36.625 -13.375 41.015625 -8.765625 \r\nQ 45.40625 -4.15625 45.40625 5.171875 \r\nL 45.40625 9.625 \r\nQ 42.625 4.78125 38.28125 2.390625 \r\nQ 33.9375 0 27.875 0 \r\nQ 17.828125 0 11.671875 7.65625 \r\nQ 5.515625 15.328125 5.515625 27.984375 \r\nQ 5.515625 40.671875 11.671875 48.328125 \r\nQ 17.828125 56 27.875 56 \r\nQ 33.9375 56 38.28125 53.609375 \r\nQ 42.625 51.21875 45.40625 46.390625 \r\nL 45.40625 54.6875 \r\nL 54.390625 54.6875 \r\nz\r\n\" id=\"DejaVuSans-103\"/>\r\n     <path d=\"M 56.203125 29.59375 \r\nL 56.203125 25.203125 \r\nL 14.890625 25.203125 \r\nQ 15.484375 15.921875 20.484375 11.0625 \r\nQ 25.484375 6.203125 34.421875 6.203125 \r\nQ 39.59375 6.203125 44.453125 7.46875 \r\nQ 49.3125 8.734375 54.109375 11.28125 \r\nL 54.109375 2.78125 \r\nQ 49.265625 0.734375 44.1875 -0.34375 \r\nQ 39.109375 -1.421875 33.890625 -1.421875 \r\nQ 20.796875 -1.421875 13.15625 6.1875 \r\nQ 5.515625 13.8125 5.515625 26.8125 \r\nQ 5.515625 40.234375 12.765625 48.109375 \r\nQ 20.015625 56 32.328125 56 \r\nQ 43.359375 56 49.78125 48.890625 \r\nQ 56.203125 41.796875 56.203125 29.59375 \r\nz\r\nM 47.21875 32.234375 \r\nQ 47.125 39.59375 43.09375 43.984375 \r\nQ 39.0625 48.390625 32.421875 48.390625 \r\nQ 24.90625 48.390625 20.390625 44.140625 \r\nQ 15.875 39.890625 15.1875 32.171875 \r\nz\r\n\" id=\"DejaVuSans-101\"/>\r\n    </defs>\r\n    <g transform=\"translate(208.656282 142.204251)scale(0.1 -0.1)\">\r\n     <use xlink:href=\"#DejaVuSans-108\"/>\r\n     <use x=\"27.783203\" xlink:href=\"#DejaVuSans-97\"/>\r\n     <use x=\"89.0625\" xlink:href=\"#DejaVuSans-114\"/>\r\n     <use x=\"130.160156\" xlink:href=\"#DejaVuSans-103\"/>\r\n     <use x=\"193.636719\" xlink:href=\"#DejaVuSans-101\"/>\r\n     <use x=\"255.160156\" xlink:href=\"#DejaVuSans-114\"/>\r\n    </g>\r\n   </g>\r\n  </g>\r\n </g>\r\n</svg>\r\n",
      "image/png": "[encoded data removed]"
     },
     "metadata": {}
    }
   ],
   "source": [
    "subject_size, subject_count = zip(*sorted_sizes)\n",
    "grouped_sizes = sorted_sizes[:3] + [('larger', sum([tup[1] for tup in sorted_sizes[3:]]))]\n",
    "plt.pie([t[1] for t in grouped_sizes], labels=[t[0] for t in grouped_sizes])\n",
    "plt.show()"
   ]
  },
  {
   "source": [
    "This pie chart shows how often subjects occur. The wedge with value 1 represents how many subjects occur only once in the repository. More than three quarters of the subjects occur only once."
   ],
   "cell_type": "markdown",
   "metadata": {}
  },
  {
   "cell_type": "code",
   "execution_count": 17,
   "metadata": {},
   "outputs": [],
   "source": [
    "shared_subjects = {}\n",
    "for subject in depositonce:\n",
    "    present_in = ['TU']\n",
    "    if subject in edoc:\n",
    "        present_in.append('HU')\n",
    "    if subject in refubium:\n",
    "        present_in.append('FU')\n",
    "    if len(present_in) > 1:\n",
    "        shared_subjects[subject] = present_in\n",
    "for subject in edoc:\n",
    "    present_in = ['HU']\n",
    "    if subject in refubium:\n",
    "        present_in.append('FU')\n",
    "    if len(present_in) > 1:\n",
    "        shared_subjects[subject] = present_in"
   ]
  },
  {
   "cell_type": "code",
   "execution_count": 24,
   "metadata": {},
   "outputs": [
    {
     "output_type": "stream",
     "name": "stdout",
     "text": [
      "0 subjects appear all three repositories\n4305 subjects are shared by depositonce and edoc.\n10557 subjects are shared by refubium and edoc.\n2927 subjects are shared by DepositOnce and refubium.\n"
     ]
    }
   ],
   "source": [
    "print(f\"{len([1 for v in shared_subjects.values() if len(v) == 3])} subjects appear all three repositories\")\n",
    "print(f\"{len([1 for v in shared_subjects.values() if 'HU' in v and 'TU' in v])} subjects are shared by depositonce and edoc.\")\n",
    "print(f\"{len([1 for v in shared_subjects.values() if 'HU' in v and 'FU' in v])} subjects are shared by refubium and edoc.\")\n",
    "print(f\"{len([1 for v in shared_subjects.values() if 'FU' in v and 'TU' in v])} subjects are shared by DepositOnce and refubium.\")"
   ]
  },
  {
   "cell_type": "code",
   "execution_count": null,
   "metadata": {},
   "outputs": [],
   "source": []
  }
 ]
}