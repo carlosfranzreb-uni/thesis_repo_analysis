{
 "metadata": {
  "language_info": {
   "codemirror_mode": {
    "name": "ipython",
    "version": 3
   },
   "file_extension": ".py",
   "mimetype": "text/x-python",
   "name": "python",
   "nbconvert_exporter": "python",
   "pygments_lexer": "ipython3",
   "version": "3.7.6"
  },
  "orig_nbformat": 2,
  "kernelspec": {
   "name": "python376jvsc74a57bd0afec8bd1b97d7d536c9012edeeda7c68a0e99e84af90a3d324c5b7b0f06b2586",
   "display_name": "Python 3.7.6 64-bit ('base': conda)"
  }
 },
 "nbformat": 4,
 "nbformat_minor": 2,
 "cells": [
  {
   "cell_type": "code",
   "execution_count": 1,
   "metadata": {},
   "outputs": [],
   "source": [
    "import xml.etree.ElementTree as ET\n",
    "from os import listdir"
   ]
  },
  {
   "cell_type": "code",
   "execution_count": 2,
   "metadata": {},
   "outputs": [],
   "source": [
    "oai = '{http://www.openarchives.org/OAI/2.0/}'\n",
    "oai_dc = '{http://www.openarchives.org/OAI/2.0/oai_dc/}'\n",
    "dc = '{http://purl.org/dc/elements/1.1/}'"
   ]
  },
  {
   "cell_type": "code",
   "execution_count": 3,
   "metadata": {},
   "outputs": [],
   "source": [
    "def field_pctg_dir(directory, field):\n",
    "    \"\"\"checks how many items in the given directory have field f non-empty. \"\"\"\n",
    "    has_field = [\n",
    "        field_pctg_f(f'{directory}/{f}', field) \n",
    "        for f in listdir(directory)\n",
    "    ]\n",
    "    return sum(has_field) / len(has_field)"
   ]
  },
  {
   "cell_type": "code",
   "execution_count": 6,
   "metadata": {},
   "outputs": [],
   "source": [
    "def field_pctg_f(f, field):\n",
    "    \"\"\"checks how many items in the given file have field f non-empty. \"\"\"\n",
    "    root = ET.parse(f).getroot()\n",
    "    has_field = []\n",
    "    for record in root.find(f'{oai}ListRecords'):\n",
    "        header = record.find(f'{oai}header')\n",
    "        if record.tag == f'{oai}resumptionToken':\n",
    "            continue\n",
    "        elif 'status' in header.attrib and header.attrib['status'] == 'deleted':\n",
    "            continue\n",
    "        try:\n",
    "            metadata = record.find(f'{oai}metadata').find(f'{oai_dc}dc')\n",
    "            included = False\n",
    "            for this_field in metadata.findall('*'):\n",
    "                if this_field.tag == field and \\\n",
    "                        this_field.text != \"Peer Reviewed\":\n",
    "                    included = True\n",
    "                    break\n",
    "            has_field.append(included)\n",
    "        except AttributeError:\n",
    "            print(header)  #.find('identifier').text)\n",
    "    return sum(has_field) / len(has_field)"
   ]
  },
  {
   "cell_type": "code",
   "execution_count": 13,
   "metadata": {
    "tags": []
   },
   "outputs": [
    {
     "output_type": "stream",
     "name": "stdout",
     "text": [
      "Edoc: 0.56\nDepositonce: 0.99\nRefubium: 0.95\nAll: 0.83\n"
     ]
    }
   ],
   "source": [
    "field = f'{dc}description'\n",
    "edoc = field_pctg_dir('../data/xml/edoc', field)\n",
    "depositonce = field_pctg_dir('../data/xml/depositonce', field)\n",
    "refubium = field_pctg_dir('../data/xml/refubium', field)\n",
    "print(f'Edoc: {round(edoc, 2)}')\n",
    "print(f'Depositonce: {round(depositonce, 2)}')\n",
    "print(f'Refubium: {round(refubium, 2)}')\n",
    "print(f'All: {round((edoc + depositonce + refubium) / 3, 2)}')"
   ]
  }
 ]
}