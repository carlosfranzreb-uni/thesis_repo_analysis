{
 "metadata": {
  "language_info": {
   "codemirror_mode": {
    "name": "ipython",
    "version": 3
   },
   "file_extension": ".py",
   "mimetype": "text/x-python",
   "name": "python",
   "nbconvert_exporter": "python",
   "pygments_lexer": "ipython3",
   "version": "3.7.6"
  },
  "orig_nbformat": 2,
  "kernelspec": {
   "name": "python376jvsc74a57bd0afec8bd1b97d7d536c9012edeeda7c68a0e99e84af90a3d324c5b7b0f06b2586",
   "display_name": "Python 3.7.6 64-bit ('base': conda)"
  }
 },
 "nbformat": 4,
 "nbformat_minor": 2,
 "cells": [
  {
   "cell_type": "code",
   "execution_count": 1,
   "metadata": {},
   "outputs": [],
   "source": [
    "import json\n",
    "from matplotlib import pyplot as plt\n",
    "from copy import deepcopy"
   ]
  },
  {
   "cell_type": "code",
   "execution_count": 2,
   "metadata": {},
   "outputs": [],
   "source": [
    "# dict of subjects (keys) and the list of publications they appear in (values).\n",
    "types = json.load(open('../../../data/json/dim/all/relevant_types.json'))\n",
    "type_clusters = json.load(open('../../oai_dc/types/clustered_types.json'))\n",
    "depositonce = json.load(open('../../../data/json/dim/depositonce/relevant_subjects_reversed.json'))\n",
    "edoc = json.load(open('../../../data/json/dim/edoc/relevant_subjects_reversed.json'))\n",
    "refubium = json.load(open('../../../data/json/dim/refubium/relevant_subjects_reversed.json'))\n",
    "all = {(s['subject'], s['type']): deepcopy(s['values']) for s in depositonce}\n",
    "for repo in (edoc, refubium):\n",
    "    for s in repo:\n",
    "        if (s['subject'], s['type']) in all:\n",
    "            all[(s['subject'], s['type'])] += s['values']\n",
    "        else:\n",
    "            all[(s['subject'], s['type'])] = s['values']"
   ]
  },
  {
   "cell_type": "code",
   "execution_count": 5,
   "metadata": {},
   "outputs": [],
   "source": [
    "ddc = {k[0]: v for k, v in all.items() if k[1] == 'ddc'}"
   ]
  },
  {
   "cell_type": "code",
   "execution_count": 8,
   "metadata": {},
   "outputs": [],
   "source": [
    "def is_ddc(n):\n",
    "  \"\"\" True if the given number (string) complies with the DDC format. \"\"\"\n",
    "  return '.' in n and len(n.split('.')[0]) == 3 or \\\n",
    "      '.' not in n and len(n) == 3"
   ]
  },
  {
   "cell_type": "code",
   "execution_count": 11,
   "metadata": {},
   "outputs": [
    {
     "output_type": "stream",
     "name": "stdout",
     "text": [
      "Out of the 390 distinct DDC terms:\n\t10 are classes, i.e the number ends in 00.\n\t71 are subclasses, i.e the number ends in 0.\n\t302 are more specific than that.\n\t7 are not DDC numbers.\n"
     ]
    }
   ],
   "source": [
    "classes, subclasses, more_specific, undefined = {}, {}, {}, {}\n",
    "for term, values in ddc.items():\n",
    "    if term[-2:] == '00':\n",
    "        classes[term] = values\n",
    "    elif term[-1:] == '0':\n",
    "        subclasses[term] = values\n",
    "    elif is_ddc(term):\n",
    "        more_specific[term] = values\n",
    "    else:\n",
    "        undefined[term] = values\n",
    "print(f'Out of the {len(ddc)} distinct DDC terms:')\n",
    "print(f'\\t{len(classes)} are classes, i.e the number ends in 00.')\n",
    "print(f'\\t{len(subclasses)} are subclasses, i.e the number ends in 0.')\n",
    "print(f'\\t{len(more_specific)} are more specific than that.')\n",
    "print(f'\\t{len(undefined)} are not DDC numbers.')"
   ]
  },
  {
   "cell_type": "code",
   "execution_count": null,
   "metadata": {},
   "outputs": [],
   "source": []
  }
 ]
}