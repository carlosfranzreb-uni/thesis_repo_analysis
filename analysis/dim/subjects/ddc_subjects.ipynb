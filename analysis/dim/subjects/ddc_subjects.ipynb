{
 "metadata": {
  "language_info": {
   "codemirror_mode": {
    "name": "ipython",
    "version": 3
   },
   "file_extension": ".py",
   "mimetype": "text/x-python",
   "name": "python",
   "nbconvert_exporter": "python",
   "pygments_lexer": "ipython3",
   "version": "3.7.6"
  },
  "orig_nbformat": 2,
  "kernelspec": {
   "name": "python376jvsc74a57bd0afec8bd1b97d7d536c9012edeeda7c68a0e99e84af90a3d324c5b7b0f06b2586",
   "display_name": "Python 3.7.6 64-bit ('base': conda)"
  }
 },
 "nbformat": 4,
 "nbformat_minor": 2,
 "cells": [
  {
   "cell_type": "code",
   "execution_count": 1,
   "metadata": {},
   "outputs": [],
   "source": [
    "import json"
   ]
  },
  {
   "cell_type": "code",
   "execution_count": 5,
   "metadata": {},
   "outputs": [],
   "source": [
    "tu = json.load(open('relevant_facts_depositonce.json'))\n",
    "hu = json.load(open('relevant_facts_edoc.json'))\n",
    "fu = json.load(open('relevant_facts_refubium.json'))\n",
    "all = tu.copy()\n",
    "for key in all:\n",
    "    all[key] += hu[key] + fu[key]"
   ]
  },
  {
   "cell_type": "code",
   "execution_count": 6,
   "metadata": {},
   "outputs": [
    {
     "output_type": "execute_result",
     "data": {
      "text/plain": [
       "{'n_all_docs': 62507,\n",
       " 'n_docs': 29399,\n",
       " 'at_least': 28871,\n",
       " 'cnt_0': 22859,\n",
       " 'cnt_00': 2961,\n",
       " 'cnt': 7864}"
      ]
     },
     "metadata": {},
     "execution_count": 6
    }
   ],
   "source": [
    "all"
   ]
  },
  {
   "cell_type": "code",
   "execution_count": null,
   "metadata": {},
   "outputs": [],
   "source": []
  }
 ]
}