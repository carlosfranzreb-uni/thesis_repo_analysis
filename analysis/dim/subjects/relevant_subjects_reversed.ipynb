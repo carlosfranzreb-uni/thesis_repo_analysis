{
 "metadata": {
  "language_info": {
   "codemirror_mode": {
    "name": "ipython",
    "version": 3
   },
   "file_extension": ".py",
   "mimetype": "text/x-python",
   "name": "python",
   "nbconvert_exporter": "python",
   "pygments_lexer": "ipython3",
   "version": "3.7.6"
  },
  "orig_nbformat": 2,
  "kernelspec": {
   "name": "python376jvsc74a57bd0afec8bd1b97d7d536c9012edeeda7c68a0e99e84af90a3d324c5b7b0f06b2586",
   "display_name": "Python 3.7.6 64-bit ('base': conda)"
  }
 },
 "nbformat": 4,
 "nbformat_minor": 2,
 "cells": [
  {
   "cell_type": "code",
   "execution_count": 1,
   "metadata": {},
   "outputs": [],
   "source": [
    "import json\n",
    "from matplotlib import pyplot as plt\n",
    "from copy import deepcopy"
   ]
  },
  {
   "cell_type": "code",
   "execution_count": 2,
   "metadata": {},
   "outputs": [],
   "source": [
    "# dict of subjects (keys) and the list of publications they appear in (values).\n",
    "types = json.load(open('../../../data/json/dim/all/relevant_types.json'))\n",
    "type_clusters = json.load(open('../../oai_dc/types/clustered_types.json'))\n",
    "depositonce = json.load(open('../../../data/json/dim/depositonce/relevant_subjects_reversed.json'))\n",
    "edoc = json.load(open('../../../data/json/dim/edoc/relevant_subjects_reversed.json'))\n",
    "refubium = json.load(open('../../../data/json/dim/refubium/relevant_subjects_reversed.json'))\n",
    "all = {(s['subject'], s['type']): deepcopy(s['values']) for s in depositonce}\n",
    "for repo in (edoc, refubium):\n",
    "    for s in repo:\n",
    "        if (s['subject'], s['type']) in all:\n",
    "            all[(s['subject'], s['type'])] += s['values']\n",
    "        else:\n",
    "            all[(s['subject'], s['type'])] = s['values']"
   ]
  },
  {
   "cell_type": "code",
   "execution_count": 3,
   "metadata": {},
   "outputs": [
    {
     "output_type": "stream",
     "name": "stdout",
     "text": [
      "There are 85564 subjects across the three repositories.\n4788 subjects are shared among repositories.\n"
     ]
    }
   ],
   "source": [
    "print(f'There are {len(all)} subjects across the three repositories.')\n",
    "print(f'{len(depositonce) + len(edoc) + len(refubium) - len(all)} subjects are shared among repositories.')"
   ]
  },
  {
   "cell_type": "code",
   "execution_count": 4,
   "metadata": {},
   "outputs": [],
   "source": [
    "def group_counts(counts):\n",
    "    subject_sizes = dict()\n",
    "    for subject, cnt in counts.items():\n",
    "        if cnt not in subject_sizes:\n",
    "            subject_sizes[cnt] = 0\n",
    "        subject_sizes[cnt] += 1\n",
    "    return sorted(subject_sizes.items())"
   ]
  },
  {
   "cell_type": "code",
   "execution_count": 5,
   "metadata": {},
   "outputs": [
    {
     "output_type": "display_data",
     "data": {
      "text/plain": "<Figure size 432x288 with 1 Axes>",
      "image/svg+xml": "<?xml version=\"1.0\" encoding=\"utf-8\" standalone=\"no\"?>\r\n<!DOCTYPE svg PUBLIC \"-//W3C//DTD SVG 1.1//EN\"\r\n  \"http://www.w3.org/Graphics/SVG/1.1/DTD/svg11.dtd\">\r\n<!-- Created with matplotlib (https://matplotlib.org/) -->\r\n<svg height=\"231.84pt\" version=\"1.1\" viewBox=\"0 0 243.348278 231.84\" width=\"243.348278pt\" xmlns=\"http://www.w3.org/2000/svg\" xmlns:xlink=\"http://www.w3.org/1999/xlink\">\r\n <defs>\r\n  <style type=\"text/css\">\r\n*{stroke-linecap:butt;stroke-linejoin:round;}\r\n  </style>\r\n </defs>\r\n <g id=\"figure_1\">\r\n  <g id=\"patch_1\">\r\n   <path d=\"M 0 231.84 \r\nL 243.348278 231.84 \r\nL 243.348278 0 \r\nL 0 0 \r\nz\r\n\" style=\"fill:none;\"/>\r\n  </g>\r\n  <g id=\"axes_1\">\r\n   <g id=\"patch_2\">\r\n    <path d=\"M 202.896 115.92 \r\nC 202.896 106.83661 201.473056 97.809033 198.678991 89.166048 \r\nC 195.884926 80.523064 191.754077 72.370886 186.436886 65.006413 \r\nC 181.119696 57.64194 174.681507 51.155675 167.356796 45.783842 \r\nC 160.032084 40.41201 151.910864 36.220626 143.288906 33.362338 \r\nC 134.666947 30.50405 125.650206 29.013984 116.567067 28.946407 \r\nC 107.483928 28.87883 98.446015 30.234573 89.782483 32.96426 \r\nC 81.118951 35.693947 72.936267 39.764033 65.53244 45.026288 \r\nC 58.128613 50.288543 51.594629 56.678298 46.168453 63.962842 \r\nC 40.742276 71.247387 36.490589 79.3372 33.568237 87.937655 \r\nC 30.645884 96.53811 29.088778 105.543517 28.953628 114.625901 \r\nC 28.818478 123.708286 30.106945 132.756036 32.772103 141.439636 \r\nC 35.437261 150.123235 39.446359 158.335973 44.653386 165.778744 \r\nC 49.860414 173.221515 56.201382 179.802856 63.445356 185.283076 \r\nC 70.68933 190.763297 78.747289 195.075051 87.325765 198.061307 \r\nC 95.904241 201.047563 104.897814 202.671622 113.978941 202.874338 \r\nC 123.060069 203.077053 132.117154 201.855934 140.820342 199.255452 \r\nL 115.92 115.92 \r\nL 202.896 115.92 \r\nz\r\n\" style=\"fill:#1f77b4;\"/>\r\n   </g>\r\n   <g id=\"patch_3\">\r\n    <path d=\"M 140.820342 199.255452 \r\nC 150.275187 196.430377 159.18067 192.016742 167.154746 186.203891 \r\nC 175.128823 180.39104 182.055811 173.263302 187.638542 165.126456 \r\nL 115.92 115.92 \r\nL 140.820342 199.255452 \r\nz\r\n\" style=\"fill:#ff7f0e;\"/>\r\n   </g>\r\n   <g id=\"patch_4\">\r\n    <path d=\"M 187.638542 165.126456 \r\nC 189.599371 162.268542 191.387621 159.295976 192.993722 156.224663 \r\nC 194.599824 153.153351 196.020907 149.98878 197.249368 146.747884 \r\nL 115.92 115.92 \r\nL 187.638542 165.126456 \r\nz\r\n\" style=\"fill:#2ca02c;\"/>\r\n   </g>\r\n   <g id=\"patch_5\">\r\n    <path d=\"M 197.249368 146.747884 \r\nC 199.112215 141.833368 200.525776 136.760102 201.472695 131.590382 \r\nC 202.419615 126.420662 202.895999 121.175736 202.896 115.92001 \r\nL 115.92 115.92 \r\nL 197.249368 146.747884 \r\nz\r\n\" style=\"fill:#d62728;\"/>\r\n   </g>\r\n   <g id=\"matplotlib.axis_1\"/>\r\n   <g id=\"matplotlib.axis_2\"/>\r\n   <g id=\"text_1\">\r\n    <!-- 1 -->\r\n    <defs>\r\n     <path d=\"M 12.40625 8.296875 \r\nL 28.515625 8.296875 \r\nL 28.515625 63.921875 \r\nL 10.984375 60.40625 \r\nL 10.984375 69.390625 \r\nL 28.421875 72.90625 \r\nL 38.28125 72.90625 \r\nL 38.28125 8.296875 \r\nL 54.390625 8.296875 \r\nL 54.390625 0 \r\nL 12.40625 0 \r\nz\r\n\" id=\"DejaVuSans-49\"/>\r\n    </defs>\r\n    <g transform=\"translate(32.830798 61.526502)scale(0.1 -0.1)\">\r\n     <use xlink:href=\"#DejaVuSans-49\"/>\r\n    </g>\r\n   </g>\r\n   <g id=\"text_2\">\r\n    <!-- 2 -->\r\n    <defs>\r\n     <path d=\"M 19.1875 8.296875 \r\nL 53.609375 8.296875 \r\nL 53.609375 0 \r\nL 7.328125 0 \r\nL 7.328125 8.296875 \r\nQ 12.9375 14.109375 22.625 23.890625 \r\nQ 32.328125 33.6875 34.8125 36.53125 \r\nQ 39.546875 41.84375 41.421875 45.53125 \r\nQ 43.3125 49.21875 43.3125 52.78125 \r\nQ 43.3125 58.59375 39.234375 62.25 \r\nQ 35.15625 65.921875 28.609375 65.921875 \r\nQ 23.96875 65.921875 18.8125 64.3125 \r\nQ 13.671875 62.703125 7.8125 59.421875 \r\nL 7.8125 69.390625 \r\nQ 13.765625 71.78125 18.9375 73 \r\nQ 24.125 74.21875 28.421875 74.21875 \r\nQ 39.75 74.21875 46.484375 68.546875 \r\nQ 53.21875 62.890625 53.21875 53.421875 \r\nQ 53.21875 48.921875 51.53125 44.890625 \r\nQ 49.859375 40.875 45.40625 35.40625 \r\nQ 44.1875 33.984375 37.640625 27.21875 \r\nQ 31.109375 20.453125 19.1875 8.296875 \r\nz\r\n\" id=\"DejaVuSans-50\"/>\r\n    </defs>\r\n    <g transform=\"translate(172.278221 195.991655)scale(0.1 -0.1)\">\r\n     <use xlink:href=\"#DejaVuSans-50\"/>\r\n    </g>\r\n   </g>\r\n   <g id=\"text_3\">\r\n    <!-- 3 -->\r\n    <defs>\r\n     <path d=\"M 40.578125 39.3125 \r\nQ 47.65625 37.796875 51.625 33 \r\nQ 55.609375 28.21875 55.609375 21.1875 \r\nQ 55.609375 10.40625 48.1875 4.484375 \r\nQ 40.765625 -1.421875 27.09375 -1.421875 \r\nQ 22.515625 -1.421875 17.65625 -0.515625 \r\nQ 12.796875 0.390625 7.625 2.203125 \r\nL 7.625 11.71875 \r\nQ 11.71875 9.328125 16.59375 8.109375 \r\nQ 21.484375 6.890625 26.8125 6.890625 \r\nQ 36.078125 6.890625 40.9375 10.546875 \r\nQ 45.796875 14.203125 45.796875 21.1875 \r\nQ 45.796875 27.640625 41.28125 31.265625 \r\nQ 36.765625 34.90625 28.71875 34.90625 \r\nL 20.21875 34.90625 \r\nL 20.21875 43.015625 \r\nL 29.109375 43.015625 \r\nQ 36.375 43.015625 40.234375 45.921875 \r\nQ 44.09375 48.828125 44.09375 54.296875 \r\nQ 44.09375 59.90625 40.109375 62.90625 \r\nQ 36.140625 65.921875 28.71875 65.921875 \r\nQ 24.65625 65.921875 20.015625 65.03125 \r\nQ 15.375 64.15625 9.8125 62.3125 \r\nL 9.8125 71.09375 \r\nQ 15.4375 72.65625 20.34375 73.4375 \r\nQ 25.25 74.21875 29.59375 74.21875 \r\nQ 40.828125 74.21875 47.359375 69.109375 \r\nQ 53.90625 64.015625 53.90625 55.328125 \r\nQ 53.90625 49.265625 50.4375 45.09375 \r\nQ 46.96875 40.921875 40.578125 39.3125 \r\nz\r\n\" id=\"DejaVuSans-51\"/>\r\n    </defs>\r\n    <g transform=\"translate(200.701095 163.014505)scale(0.1 -0.1)\">\r\n     <use xlink:href=\"#DejaVuSans-51\"/>\r\n    </g>\r\n   </g>\r\n   <g id=\"text_4\">\r\n    <!-- more -->\r\n    <defs>\r\n     <path d=\"M 52 44.1875 \r\nQ 55.375 50.25 60.0625 53.125 \r\nQ 64.75 56 71.09375 56 \r\nQ 79.640625 56 84.28125 50.015625 \r\nQ 88.921875 44.046875 88.921875 33.015625 \r\nL 88.921875 0 \r\nL 79.890625 0 \r\nL 79.890625 32.71875 \r\nQ 79.890625 40.578125 77.09375 44.375 \r\nQ 74.3125 48.1875 68.609375 48.1875 \r\nQ 61.625 48.1875 57.5625 43.546875 \r\nQ 53.515625 38.921875 53.515625 30.90625 \r\nL 53.515625 0 \r\nL 44.484375 0 \r\nL 44.484375 32.71875 \r\nQ 44.484375 40.625 41.703125 44.40625 \r\nQ 38.921875 48.1875 33.109375 48.1875 \r\nQ 26.21875 48.1875 22.15625 43.53125 \r\nQ 18.109375 38.875 18.109375 30.90625 \r\nL 18.109375 0 \r\nL 9.078125 0 \r\nL 9.078125 54.6875 \r\nL 18.109375 54.6875 \r\nL 18.109375 46.1875 \r\nQ 21.1875 51.21875 25.484375 53.609375 \r\nQ 29.78125 56 35.6875 56 \r\nQ 41.65625 56 45.828125 52.96875 \r\nQ 50 49.953125 52 44.1875 \r\nz\r\n\" id=\"DejaVuSans-109\"/>\r\n     <path d=\"M 30.609375 48.390625 \r\nQ 23.390625 48.390625 19.1875 42.75 \r\nQ 14.984375 37.109375 14.984375 27.296875 \r\nQ 14.984375 17.484375 19.15625 11.84375 \r\nQ 23.34375 6.203125 30.609375 6.203125 \r\nQ 37.796875 6.203125 41.984375 11.859375 \r\nQ 46.1875 17.53125 46.1875 27.296875 \r\nQ 46.1875 37.015625 41.984375 42.703125 \r\nQ 37.796875 48.390625 30.609375 48.390625 \r\nz\r\nM 30.609375 56 \r\nQ 42.328125 56 49.015625 48.375 \r\nQ 55.71875 40.765625 55.71875 27.296875 \r\nQ 55.71875 13.875 49.015625 6.21875 \r\nQ 42.328125 -1.421875 30.609375 -1.421875 \r\nQ 18.84375 -1.421875 12.171875 6.21875 \r\nQ 5.515625 13.875 5.515625 27.296875 \r\nQ 5.515625 40.765625 12.171875 48.375 \r\nQ 18.84375 56 30.609375 56 \r\nz\r\n\" id=\"DejaVuSans-111\"/>\r\n     <path d=\"M 41.109375 46.296875 \r\nQ 39.59375 47.171875 37.8125 47.578125 \r\nQ 36.03125 48 33.890625 48 \r\nQ 26.265625 48 22.1875 43.046875 \r\nQ 18.109375 38.09375 18.109375 28.8125 \r\nL 18.109375 0 \r\nL 9.078125 0 \r\nL 9.078125 54.6875 \r\nL 18.109375 54.6875 \r\nL 18.109375 46.1875 \r\nQ 20.953125 51.171875 25.484375 53.578125 \r\nQ 30.03125 56 36.53125 56 \r\nQ 37.453125 56 38.578125 55.875 \r\nQ 39.703125 55.765625 41.0625 55.515625 \r\nz\r\n\" id=\"DejaVuSans-114\"/>\r\n     <path d=\"M 56.203125 29.59375 \r\nL 56.203125 25.203125 \r\nL 14.890625 25.203125 \r\nQ 15.484375 15.921875 20.484375 11.0625 \r\nQ 25.484375 6.203125 34.421875 6.203125 \r\nQ 39.59375 6.203125 44.453125 7.46875 \r\nQ 49.3125 8.734375 54.109375 11.28125 \r\nL 54.109375 2.78125 \r\nQ 49.265625 0.734375 44.1875 -0.34375 \r\nQ 39.109375 -1.421875 33.890625 -1.421875 \r\nQ 20.796875 -1.421875 13.15625 6.1875 \r\nQ 5.515625 13.8125 5.515625 26.8125 \r\nQ 5.515625 40.234375 12.765625 48.109375 \r\nQ 20.015625 56 32.328125 56 \r\nQ 43.359375 56 49.78125 48.890625 \r\nQ 56.203125 41.796875 56.203125 29.59375 \r\nz\r\nM 47.21875 32.234375 \r\nQ 47.125 39.59375 43.09375 43.984375 \r\nQ 39.0625 48.390625 32.421875 48.390625 \r\nQ 24.90625 48.390625 20.390625 44.140625 \r\nQ 15.875 39.890625 15.1875 32.171875 \r\nz\r\n\" id=\"DejaVuSans-101\"/>\r\n    </defs>\r\n    <g transform=\"translate(210.027965 135.916795)scale(0.1 -0.1)\">\r\n     <use xlink:href=\"#DejaVuSans-109\"/>\r\n     <use x=\"97.412109\" xlink:href=\"#DejaVuSans-111\"/>\r\n     <use x=\"158.59375\" xlink:href=\"#DejaVuSans-114\"/>\r\n     <use x=\"199.675781\" xlink:href=\"#DejaVuSans-101\"/>\r\n    </g>\r\n   </g>\r\n  </g>\r\n </g>\r\n</svg>\r\n",
      "image/png": "[encoded data removed]"
     },
     "metadata": {}
    }
   ],
   "source": [
    "counts = {k: len(v) for k, v in all.items()}\n",
    "groups = group_counts(counts)\n",
    "x, y = zip(*groups)\n",
    "labels = list(x[:3])\n",
    "labels.append('more')\n",
    "values = list(y[:3])\n",
    "values.append(sum(y[3:]))\n",
    "plt.pie(values, labels=labels)\n",
    "plt.show()"
   ]
  },
  {
   "cell_type": "code",
   "execution_count": 6,
   "metadata": {},
   "outputs": [
    {
     "output_type": "stream",
     "name": "stdout",
     "text": [
      "Most popular subjects\n"
     ]
    },
    {
     "output_type": "execute_result",
     "data": {
      "text/plain": [
       "[(('610', 'ddc'), 3611),\n",
       " (('530', 'ddc'), 2634),\n",
       " (('330', 'ddc'), 2299),\n",
       " (('570', 'ddc'), 2089),\n",
       " (('510', 'ddc'), 1285),\n",
       " (('540', 'ddc'), 1172),\n",
       " (('004', 'ddc'), 1054),\n",
       " (('630', 'ddc'), 1045),\n",
       " (('150', 'ddc'), 733),\n",
       " (('300', 'ddc'), 700),\n",
       " (('550', 'ddc'), 688),\n",
       " (('320', 'ddc'), 659),\n",
       " (('500', 'ddc'), 598),\n",
       " (('620', 'ddc'), 564),\n",
       " (('17 Wirtschaft', 'dnb'), 458),\n",
       " (('32 Biologie', 'dnb'), 451),\n",
       " (('29 Physik, Astronomie', 'dnb'), 421),\n",
       " (('572', 'ddc'), 392),\n",
       " (('310', 'ddc'), 358),\n",
       " (('020', 'ddc'), 348)]"
      ]
     },
     "metadata": {},
     "execution_count": 6
    }
   ],
   "source": [
    "print(\"Most popular subjects\")\n",
    "sorted(counts.items(), key=lambda item: item[1], reverse=True)[:20]"
   ]
  },
  {
   "cell_type": "code",
   "execution_count": 7,
   "metadata": {},
   "outputs": [
    {
     "output_type": "stream",
     "name": "stdout",
     "text": [
      "Most popular subjects of depositonce\n[(('620', 'ddc'), 521), (('004', 'ddc'), 444), (('530', 'ddc'), 343), (('510', 'ddc'), 225), (('500', 'ddc'), 215)]\nMost popular subjects of edoc\n[(('330', 'ddc'), 1762), (('510', 'ddc'), 751), (('570', 'ddc'), 748), (('530', 'ddc'), 631), (('17 Wirtschaft', 'dnb'), 458)]\nMost popular subjects of refubium\n[(('610', 'ddc'), 3270), (('530', 'ddc'), 1660), (('570', 'ddc'), 1212), (('630', 'ddc'), 777), (('540', 'ddc'), 765)]\n"
     ]
    }
   ],
   "source": [
    "repos = {'depositonce': depositonce, 'edoc': edoc, 'refubium': refubium}\n",
    "for repo_str, repo in repos.items():\n",
    "    cnt = {(item['subject'], item['type']): len(item['values']) for item in repo}\n",
    "    print(f\"Most popular subjects of {repo_str}\")\n",
    "    print(sorted(cnt.items(), key=lambda item: item[1], reverse=True)[:5])"
   ]
  },
  {
   "cell_type": "code",
   "execution_count": 8,
   "metadata": {},
   "outputs": [],
   "source": [
    "shared = {'All': [], 'HU-TU': [], 'HU-FU': [], 'TU-FU': []}\n",
    "for tu_subject in depositonce:\n",
    "    for hu_subject in edoc:\n",
    "        if tu_subject['subject'] == hu_subject['subject']:\n",
    "            shared['HU-TU'].append(tu_subject['subject'])\n",
    "    for fu_subject in edoc:\n",
    "        if tu_subject['subject'] == fu_subject['subject']:\n",
    "            shared['TU-FU'].append(tu_subject['subject'])\n",
    "for fu_subject in refubium:\n",
    "    for hu_subject in edoc:\n",
    "        if fu_subject['subject'] == hu_subject['subject']:\n",
    "            shared['HU-FU'].append(tu_subject['subject'])\n",
    "shared['All'] = list(set(shared['HU-TU']).union(set(shared['TU-FU'])))"
   ]
  },
  {
   "cell_type": "code",
   "execution_count": 9,
   "metadata": {},
   "outputs": [
    {
     "output_type": "stream",
     "name": "stdout",
     "text": [
      "All 2933\nHU-TU 2940\nHU-FU 4707\nTU-FU 2940\n"
     ]
    }
   ],
   "source": [
    "for key in shared:\n",
    "    print(key, len(shared[key]))"
   ]
  }
 ]
}