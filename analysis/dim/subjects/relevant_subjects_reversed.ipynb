{
 "metadata": {
  "language_info": {
   "codemirror_mode": {
    "name": "ipython",
    "version": 3
   },
   "file_extension": ".py",
   "mimetype": "text/x-python",
   "name": "python",
   "nbconvert_exporter": "python",
   "pygments_lexer": "ipython3",
   "version": "3.7.6"
  },
  "orig_nbformat": 2,
  "kernelspec": {
   "name": "python376jvsc74a57bd0afec8bd1b97d7d536c9012edeeda7c68a0e99e84af90a3d324c5b7b0f06b2586",
   "display_name": "Python 3.7.6 64-bit ('base': conda)"
  }
 },
 "nbformat": 4,
 "nbformat_minor": 2,
 "cells": [
  {
   "cell_type": "code",
   "execution_count": 1,
   "metadata": {},
   "outputs": [],
   "source": [
    "import json\n",
    "from matplotlib import pyplot as plt"
   ]
  },
  {
   "cell_type": "code",
   "execution_count": 2,
   "metadata": {},
   "outputs": [],
   "source": [
    "# dict of subjects (keys) and the list of publications they appear in (values).\n",
    "types = json.load(open('../../../data/json/dim/all/relevant_types.json'))\n",
    "type_clusters = json.load(open('../../oai_dc/types/clustered_types.json'))\n",
    "depositonce = json.load(open('../../../data/json/dim/depositonce/relevant_subjects_reversed.json'))\n",
    "edoc = json.load(open('../../../data/json/dim/edoc/relevant_subjects_reversed.json'))\n",
    "refubium = json.load(open('../../../data/json/dim/refubium/relevant_subjects_reversed.json'))\n",
    "all = {(s['subject'], s['type']): s['values'] for s in depositonce}\n",
    "for repo in (edoc, refubium):\n",
    "    for s in repo:\n",
    "        if (s['subject'], s['type']) in all:\n",
    "            all[(s['subject'], s['type'])] += s['values']\n",
    "        else:\n",
    "            all[(s['subject'], s['type'])] = s['values']"
   ]
  },
  {
   "cell_type": "code",
   "execution_count": 3,
   "metadata": {},
   "outputs": [
    {
     "output_type": "stream",
     "name": "stdout",
     "text": [
      "There are 66408 subjects across the three repositories.\n2754 subjects are shared among repositories.\n"
     ]
    }
   ],
   "source": [
    "print(f'There are {len(all)} subjects across the three repositories.')\n",
    "print(f'{len(depositonce) + len(edoc) + len(refubium) - len(all)} subjects are shared among repositories.')"
   ]
  },
  {
   "cell_type": "code",
   "execution_count": 4,
   "metadata": {},
   "outputs": [],
   "source": [
    "def group_counts(counts):\n",
    "    subject_sizes = dict()\n",
    "    for subject, cnt in counts.items():\n",
    "        if cnt not in subject_sizes:\n",
    "            subject_sizes[cnt] = 0\n",
    "        subject_sizes[cnt] += 1\n",
    "    return sorted(subject_sizes.items())"
   ]
  },
  {
   "cell_type": "code",
   "execution_count": 5,
   "metadata": {},
   "outputs": [
    {
     "output_type": "display_data",
     "data": {
      "text/plain": "<Figure size 432x288 with 1 Axes>",
      "image/svg+xml": "<?xml version=\"1.0\" encoding=\"utf-8\" standalone=\"no\"?>\r\n<!DOCTYPE svg PUBLIC \"-//W3C//DTD SVG 1.1//EN\"\r\n  \"http://www.w3.org/Graphics/SVG/1.1/DTD/svg11.dtd\">\r\n<!-- Created with matplotlib (https://matplotlib.org/) -->\r\n<svg height=\"231.84pt\" version=\"1.1\" viewBox=\"0 0 243.837401 231.84\" width=\"243.837401pt\" xmlns=\"http://www.w3.org/2000/svg\" xmlns:xlink=\"http://www.w3.org/1999/xlink\">\r\n <defs>\r\n  <style type=\"text/css\">\r\n*{stroke-linecap:butt;stroke-linejoin:round;}\r\n  </style>\r\n </defs>\r\n <g id=\"figure_1\">\r\n  <g id=\"patch_1\">\r\n   <path d=\"M 0 231.84 \r\nL 243.837401 231.84 \r\nL 243.837401 0 \r\nL 0 0 \r\nz\r\n\" style=\"fill:none;\"/>\r\n  </g>\r\n  <g id=\"axes_1\">\r\n   <g id=\"patch_2\">\r\n    <path d=\"M 202.896 115.92 \r\nC 202.896 106.647849 201.413301 97.435066 198.504146 88.631112 \r\nC 195.594991 79.827158 191.296633 71.544775 185.772118 64.09813 \r\nC 180.247603 56.651485 173.567677 50.135939 165.985723 44.798639 \r\nC 158.403769 39.46134 150.016881 35.370636 141.14319 32.681696 \r\nC 132.269499 29.992756 123.02264 28.740015 113.753366 28.97099 \r\nC 104.484092 29.201966 95.311104 30.913702 86.582351 34.041267 \r\nC 77.853598 37.168832 69.68086 41.672176 62.374146 47.380478 \r\nC 55.067431 53.08878 48.720308 59.92894 43.573537 67.641497 \r\nC 38.426766 75.354054 34.546254 83.840242 32.079199 92.778162 \r\nC 29.612143 101.716083 28.590136 110.991279 29.051945 120.251923 \r\nC 29.513753 129.512566 31.453463 138.640068 34.797497 147.288202 \r\nC 38.141531 155.936336 42.847066 163.994356 48.735612 171.156606 \r\nC 54.624158 178.318855 61.620307 184.493615 69.45868 189.446664 \r\nC 77.297053 194.399713 85.877274 198.067623 94.873877 200.311263 \r\nC 103.870481 202.554903 113.168257 203.345541 122.414523 202.653187 \r\nC 131.660789 201.960833 140.737138 199.794353 149.299287 196.235925 \r\nL 115.92 115.92 \r\nL 202.896 115.92 \r\nz\r\n\" style=\"fill:#1f77b4;\"/>\r\n   </g>\r\n   <g id=\"patch_3\">\r\n    <path d=\"M 149.299287 196.235925 \r\nC 158.012963 192.614522 166.079508 187.599083 173.182141 181.38657 \r\nC 180.284774 175.174056 186.329286 167.84687 191.078302 159.692757 \r\nL 115.92 115.92 \r\nL 149.299287 196.235925 \r\nz\r\n\" style=\"fill:#ff7f0e;\"/>\r\n   </g>\r\n   <g id=\"patch_4\">\r\n    <path d=\"M 191.078302 159.692757 \r\nC 192.735369 156.847555 194.229537 153.910553 195.55359 150.895934 \r\nC 196.877643 147.881316 198.029446 144.793942 199.003435 141.648726 \r\nL 115.92 115.92 \r\nL 191.078302 159.692757 \r\nz\r\n\" style=\"fill:#2ca02c;\"/>\r\n   </g>\r\n   <g id=\"patch_5\">\r\n    <path d=\"M 199.003435 141.648726 \r\nC 200.291795 137.488342 201.265842 133.237057 201.917353 128.930759 \r\nC 202.568864 124.624461 202.896 120.275303 202.896 115.92 \r\nL 115.92 115.92 \r\nL 199.003435 141.648726 \r\nz\r\n\" style=\"fill:#d62728;\"/>\r\n   </g>\r\n   <g id=\"matplotlib.axis_1\"/>\r\n   <g id=\"matplotlib.axis_2\"/>\r\n   <g id=\"text_1\">\r\n    <!-- 1 -->\r\n    <defs>\r\n     <path d=\"M 12.40625 8.296875 \r\nL 28.515625 8.296875 \r\nL 28.515625 63.921875 \r\nL 10.984375 60.40625 \r\nL 10.984375 69.390625 \r\nL 28.421875 72.90625 \r\nL 38.28125 72.90625 \r\nL 38.28125 8.296875 \r\nL 54.390625 8.296875 \r\nL 54.390625 0 \r\nL 12.40625 0 \r\nz\r\n\" id=\"DejaVuSans-49\"/>\r\n    </defs>\r\n    <g transform=\"translate(29.976391 65.573021)scale(0.1 -0.1)\">\r\n     <use xlink:href=\"#DejaVuSans-49\"/>\r\n    </g>\r\n   </g>\r\n   <g id=\"text_2\">\r\n    <!-- 2 -->\r\n    <defs>\r\n     <path d=\"M 19.1875 8.296875 \r\nL 53.609375 8.296875 \r\nL 53.609375 0 \r\nL 7.328125 0 \r\nL 7.328125 8.296875 \r\nQ 12.9375 14.109375 22.625 23.890625 \r\nQ 32.328125 33.6875 34.8125 36.53125 \r\nQ 39.546875 41.84375 41.421875 45.53125 \r\nQ 43.3125 49.21875 43.3125 52.78125 \r\nQ 43.3125 58.59375 39.234375 62.25 \r\nQ 35.15625 65.921875 28.609375 65.921875 \r\nQ 23.96875 65.921875 18.8125 64.3125 \r\nQ 13.671875 62.703125 7.8125 59.421875 \r\nL 7.8125 69.390625 \r\nQ 13.765625 71.78125 18.9375 73 \r\nQ 24.125 74.21875 28.421875 74.21875 \r\nQ 39.75 74.21875 46.484375 68.546875 \r\nQ 53.21875 62.890625 53.21875 53.421875 \r\nQ 53.21875 48.921875 51.53125 44.890625 \r\nQ 49.859375 40.875 45.40625 35.40625 \r\nQ 44.1875 33.984375 37.640625 27.21875 \r\nQ 31.109375 20.453125 19.1875 8.296875 \r\nz\r\n\" id=\"DejaVuSans-50\"/>\r\n    </defs>\r\n    <g transform=\"translate(178.908355 190.692602)scale(0.1 -0.1)\">\r\n     <use xlink:href=\"#DejaVuSans-50\"/>\r\n    </g>\r\n   </g>\r\n   <g id=\"text_3\">\r\n    <!-- 3 -->\r\n    <defs>\r\n     <path d=\"M 40.578125 39.3125 \r\nQ 47.65625 37.796875 51.625 33 \r\nQ 55.609375 28.21875 55.609375 21.1875 \r\nQ 55.609375 10.40625 48.1875 4.484375 \r\nQ 40.765625 -1.421875 27.09375 -1.421875 \r\nQ 22.515625 -1.421875 17.65625 -0.515625 \r\nQ 12.796875 0.390625 7.625 2.203125 \r\nL 7.625 11.71875 \r\nQ 11.71875 9.328125 16.59375 8.109375 \r\nQ 21.484375 6.890625 26.8125 6.890625 \r\nQ 36.078125 6.890625 40.9375 10.546875 \r\nQ 45.796875 14.203125 45.796875 21.1875 \r\nQ 45.796875 27.640625 41.28125 31.265625 \r\nQ 36.765625 34.90625 28.71875 34.90625 \r\nL 20.21875 34.90625 \r\nL 20.21875 43.015625 \r\nL 29.109375 43.015625 \r\nQ 36.375 43.015625 40.234375 45.921875 \r\nQ 44.09375 48.828125 44.09375 54.296875 \r\nQ 44.09375 59.90625 40.109375 62.90625 \r\nQ 36.140625 65.921875 28.71875 65.921875 \r\nQ 24.65625 65.921875 20.015625 65.03125 \r\nQ 15.375 64.15625 9.8125 62.3125 \r\nL 9.8125 71.09375 \r\nQ 15.4375 72.65625 20.34375 73.4375 \r\nQ 25.25 74.21875 29.59375 74.21875 \r\nQ 40.828125 74.21875 47.359375 69.109375 \r\nQ 53.90625 64.015625 53.90625 55.328125 \r\nQ 53.90625 49.265625 50.4375 45.09375 \r\nQ 46.96875 40.921875 40.578125 39.3125 \r\nz\r\n\" id=\"DejaVuSans-51\"/>\r\n    </defs>\r\n    <g transform=\"translate(203.516949 157.152902)scale(0.1 -0.1)\">\r\n     <use xlink:href=\"#DejaVuSans-51\"/>\r\n    </g>\r\n   </g>\r\n   <g id=\"text_4\">\r\n    <!-- more -->\r\n    <defs>\r\n     <path d=\"M 52 44.1875 \r\nQ 55.375 50.25 60.0625 53.125 \r\nQ 64.75 56 71.09375 56 \r\nQ 79.640625 56 84.28125 50.015625 \r\nQ 88.921875 44.046875 88.921875 33.015625 \r\nL 88.921875 0 \r\nL 79.890625 0 \r\nL 79.890625 32.71875 \r\nQ 79.890625 40.578125 77.09375 44.375 \r\nQ 74.3125 48.1875 68.609375 48.1875 \r\nQ 61.625 48.1875 57.5625 43.546875 \r\nQ 53.515625 38.921875 53.515625 30.90625 \r\nL 53.515625 0 \r\nL 44.484375 0 \r\nL 44.484375 32.71875 \r\nQ 44.484375 40.625 41.703125 44.40625 \r\nQ 38.921875 48.1875 33.109375 48.1875 \r\nQ 26.21875 48.1875 22.15625 43.53125 \r\nQ 18.109375 38.875 18.109375 30.90625 \r\nL 18.109375 0 \r\nL 9.078125 0 \r\nL 9.078125 54.6875 \r\nL 18.109375 54.6875 \r\nL 18.109375 46.1875 \r\nQ 21.1875 51.21875 25.484375 53.609375 \r\nQ 29.78125 56 35.6875 56 \r\nQ 41.65625 56 45.828125 52.96875 \r\nQ 50 49.953125 52 44.1875 \r\nz\r\n\" id=\"DejaVuSans-109\"/>\r\n     <path d=\"M 30.609375 48.390625 \r\nQ 23.390625 48.390625 19.1875 42.75 \r\nQ 14.984375 37.109375 14.984375 27.296875 \r\nQ 14.984375 17.484375 19.15625 11.84375 \r\nQ 23.34375 6.203125 30.609375 6.203125 \r\nQ 37.796875 6.203125 41.984375 11.859375 \r\nQ 46.1875 17.53125 46.1875 27.296875 \r\nQ 46.1875 37.015625 41.984375 42.703125 \r\nQ 37.796875 48.390625 30.609375 48.390625 \r\nz\r\nM 30.609375 56 \r\nQ 42.328125 56 49.015625 48.375 \r\nQ 55.71875 40.765625 55.71875 27.296875 \r\nQ 55.71875 13.875 49.015625 6.21875 \r\nQ 42.328125 -1.421875 30.609375 -1.421875 \r\nQ 18.84375 -1.421875 12.171875 6.21875 \r\nQ 5.515625 13.875 5.515625 27.296875 \r\nQ 5.515625 40.765625 12.171875 48.375 \r\nQ 18.84375 56 30.609375 56 \r\nz\r\n\" id=\"DejaVuSans-111\"/>\r\n     <path d=\"M 41.109375 46.296875 \r\nQ 39.59375 47.171875 37.8125 47.578125 \r\nQ 36.03125 48 33.890625 48 \r\nQ 26.265625 48 22.1875 43.046875 \r\nQ 18.109375 38.09375 18.109375 28.8125 \r\nL 18.109375 0 \r\nL 9.078125 0 \r\nL 9.078125 54.6875 \r\nL 18.109375 54.6875 \r\nL 18.109375 46.1875 \r\nQ 20.953125 51.171875 25.484375 53.578125 \r\nQ 30.03125 56 36.53125 56 \r\nQ 37.453125 56 38.578125 55.875 \r\nQ 39.703125 55.765625 41.0625 55.515625 \r\nz\r\n\" id=\"DejaVuSans-114\"/>\r\n     <path d=\"M 56.203125 29.59375 \r\nL 56.203125 25.203125 \r\nL 14.890625 25.203125 \r\nQ 15.484375 15.921875 20.484375 11.0625 \r\nQ 25.484375 6.203125 34.421875 6.203125 \r\nQ 39.59375 6.203125 44.453125 7.46875 \r\nQ 49.3125 8.734375 54.109375 11.28125 \r\nL 54.109375 2.78125 \r\nQ 49.265625 0.734375 44.1875 -0.34375 \r\nQ 39.109375 -1.421875 33.890625 -1.421875 \r\nQ 20.796875 -1.421875 13.15625 6.1875 \r\nQ 5.515625 13.8125 5.515625 26.8125 \r\nQ 5.515625 40.234375 12.765625 48.109375 \r\nQ 20.015625 56 32.328125 56 \r\nQ 43.359375 56 49.78125 48.890625 \r\nQ 56.203125 41.796875 56.203125 29.59375 \r\nz\r\nM 47.21875 32.234375 \r\nQ 47.125 39.59375 43.09375 43.984375 \r\nQ 39.0625 48.390625 32.421875 48.390625 \r\nQ 24.90625 48.390625 20.390625 44.140625 \r\nQ 15.875 39.890625 15.1875 32.171875 \r\nz\r\n\" id=\"DejaVuSans-101\"/>\r\n    </defs>\r\n    <g transform=\"translate(210.517088 132.99121)scale(0.1 -0.1)\">\r\n     <use xlink:href=\"#DejaVuSans-109\"/>\r\n     <use x=\"97.412109\" xlink:href=\"#DejaVuSans-111\"/>\r\n     <use x=\"158.59375\" xlink:href=\"#DejaVuSans-114\"/>\r\n     <use x=\"199.675781\" xlink:href=\"#DejaVuSans-101\"/>\r\n    </g>\r\n   </g>\r\n  </g>\r\n </g>\r\n</svg>\r\n",
      "image/png": "[encoded data removed]"
     },
     "metadata": {}
    }
   ],
   "source": [
    "counts = {k: len(v) for k, v in all.items()}\n",
    "groups = group_counts(counts)\n",
    "x, y = zip(*groups)\n",
    "labels = list(x[:3])\n",
    "labels.append('more')\n",
    "values = list(y[:3])\n",
    "values.append(sum(y[3:]))\n",
    "plt.pie(values, labels=labels)\n",
    "plt.show()"
   ]
  },
  {
   "cell_type": "code",
   "execution_count": 6,
   "metadata": {},
   "outputs": [
    {
     "output_type": "stream",
     "name": "stdout",
     "text": [
      "Most popular subjects\n"
     ]
    },
    {
     "output_type": "execute_result",
     "data": {
      "text/plain": [
       "[(('620 Ingenieurwissenschaften und zugeordnete Tätigkeiten', 'ddc'), 475),\n",
       " (('530 Physik', 'ddc'), 310),\n",
       " (('004 Datenverarbeitung; Informatik', 'ddc'), 274),\n",
       " (('500 Naturwissenschaften und Mathematik', 'ddc'), 211),\n",
       " (('510 Mathematik', 'ddc'), 201),\n",
       " (('540 Chemie und zugeordnete Wissenschaften', 'ddc'), 168),\n",
       " (('570 Biowissenschaften; Biologie', 'ddc'), 115),\n",
       " (('Germany', 'unknown'), 103),\n",
       " (('330 Wirtschaft', 'ddc'), 98),\n",
       " (('550 Geowissenschaften', 'ddc'), 89),\n",
       " (('machine learning', 'other'), 89),\n",
       " (('670 Industrielle Fertigung', 'ddc'), 60),\n",
       " (('610 Medizin und Gesundheit', 'ddc'), 58),\n",
       " (('simulation', 'other'), 56),\n",
       " (('sustainability', 'other'), 55),\n",
       " (('300 Sozialwissenschaften', 'ddc'), 52),\n",
       " (('fMRI', 'unknown'), 52),\n",
       " (('000 Informatik, Informationswissenschaft, allgemeine Werke', 'ddc'), 49),\n",
       " (('agent-based modeling', 'other'), 49),\n",
       " (('climate change', 'unknown'), 49)]"
      ]
     },
     "metadata": {},
     "execution_count": 6
    }
   ],
   "source": [
    "print(\"Most popular subjects\")\n",
    "sorted(counts.items(), key=lambda item: item[1], reverse=True)[:20]"
   ]
  },
  {
   "cell_type": "code",
   "execution_count": 7,
   "metadata": {},
   "outputs": [
    {
     "output_type": "stream",
     "name": "stdout",
     "text": [
      "Most popular subjects of depositonce\n[(('620 Ingenieurwissenschaften und zugeordnete Tätigkeiten', 'ddc'), 475), (('530 Physik', 'ddc'), 310), (('004 Datenverarbeitung; Informatik', 'ddc'), 274), (('500 Naturwissenschaften und Mathematik', 'ddc'), 211), (('510 Mathematik', 'ddc'), 201)]\nMost popular subjects of edoc\n[(('Germany', 'unknown'), 103), (('fMRI', 'unknown'), 52), (('climate change', 'unknown'), 49), (('machine learning', 'unknown'), 47), (('India', 'unknown'), 45)]\nMost popular subjects of refubium\n[(('Germany', 'unknown'), 49), (('inflammation', 'unknown'), 34), (('machine learning', 'unknown'), 28), (('climate change', 'unknown'), 21), (('Staphylococcus aureus', 'unknown'), 20)]\n"
     ]
    }
   ],
   "source": [
    "repos = {'depositonce': depositonce, 'edoc': edoc, 'refubium': refubium}\n",
    "for repo_str, repo in repos.items():\n",
    "    cnt = {(item['subject'], item['type']): len(item['values']) for item in repo}\n",
    "    print(f\"Most popular subjects of {repo_str}\")\n",
    "    print(sorted(cnt.items(), key=lambda item: item[1], reverse=True)[:5])"
   ]
  },
  {
   "cell_type": "code",
   "execution_count": 8,
   "metadata": {},
   "outputs": [],
   "source": [
    "shared = {'All': [], 'HU-TU': [], 'HU-FU': [], 'TU-FU': []}\n",
    "for tu_subject in depositonce:\n",
    "    for hu_subject in edoc:\n",
    "        if tu_subject['subject'] == hu_subject['subject']:\n",
    "            shared['HU-TU'].append(tu_subject['subject'])\n",
    "    for fu_subject in edoc:\n",
    "        if tu_subject['subject'] == fu_subject['subject']:\n",
    "            shared['TU-FU'].append(tu_subject['subject'])\n",
    "for fu_subject in refubium:\n",
    "    for hu_subject in edoc:\n",
    "        if fu_subject['subject'] == hu_subject['subject']:\n",
    "            shared['HU-FU'].append(tu_subject['subject'])\n",
    "shared['All'] = list(set(shared['HU-TU']).union(set(shared['TU-FU'])))"
   ]
  },
  {
   "cell_type": "code",
   "execution_count": 9,
   "metadata": {},
   "outputs": [
    {
     "output_type": "stream",
     "name": "stdout",
     "text": [
      "All 2854\nHU-TU 2854\nHU-FU 2754\nTU-FU 2854\n"
     ]
    }
   ],
   "source": [
    "for key in shared:\n",
    "    print(key, len(shared[key]))"
   ]
  }
 ]
}