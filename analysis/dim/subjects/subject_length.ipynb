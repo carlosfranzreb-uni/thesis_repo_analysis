{
 "metadata": {
  "language_info": {
   "codemirror_mode": {
    "name": "ipython",
    "version": 3
   },
   "file_extension": ".py",
   "mimetype": "text/x-python",
   "name": "python",
   "nbconvert_exporter": "python",
   "pygments_lexer": "ipython3",
   "version": "3.7.6"
  },
  "orig_nbformat": 2,
  "kernelspec": {
   "name": "python376jvsc74a57bd0afec8bd1b97d7d536c9012edeeda7c68a0e99e84af90a3d324c5b7b0f06b2586",
   "display_name": "Python 3.7.6 64-bit ('base': conda)"
  }
 },
 "nbformat": 4,
 "nbformat_minor": 2,
 "cells": [
  {
   "cell_type": "code",
   "execution_count": 6,
   "metadata": {},
   "outputs": [],
   "source": [
    "import json"
   ]
  },
  {
   "cell_type": "code",
   "execution_count": 13,
   "metadata": {},
   "outputs": [
    {
     "output_type": "stream",
     "name": "stdout",
     "text": [
      "refubium 1.9232016740779492\n",
      "edoc 2.0071700162954915\n",
      "depositonce 1.987227617726271\n"
     ]
    }
   ],
   "source": [
    "for repo in ('refubium', 'edoc', 'depositonce'):\n",
    "    subjects = json.load(open(f'../../../data/json/dim/{repo}/relevant_subjects_reversed.json'))\n",
    "    counts = [0 for _ in range(100)]\n",
    "    for subject in subjects:\n",
    "        try:\n",
    "            counts[subject['subject'].count(' ')+1] += 1\n",
    "        except AttributeError:\n",
    "            continue\n",
    "    print(repo, sum([counts[i] * i for i in range(len(counts))]) / sum(counts))"
   ]
  },
  {
   "cell_type": "code",
   "execution_count": null,
   "metadata": {},
   "outputs": [],
   "source": []
  }
 ]
}