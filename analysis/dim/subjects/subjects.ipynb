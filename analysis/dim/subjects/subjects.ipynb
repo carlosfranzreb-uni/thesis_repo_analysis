{
 "metadata": {
  "language_info": {
   "codemirror_mode": {
    "name": "ipython",
    "version": 3
   },
   "file_extension": ".py",
   "mimetype": "text/x-python",
   "name": "python",
   "nbconvert_exporter": "python",
   "pygments_lexer": "ipython3",
   "version": "3.7.6"
  },
  "orig_nbformat": 2,
  "kernelspec": {
   "name": "python376jvsc74a57bd0afec8bd1b97d7d536c9012edeeda7c68a0e99e84af90a3d324c5b7b0f06b2586",
   "display_name": "Python 3.7.6 64-bit ('base': conda)"
  }
 },
 "nbformat": 4,
 "nbformat_minor": 2,
 "cells": [
  {
   "source": [
    "Here I want to analyse how many subjects there are per language, identify how many documents have the same subject set in both languages by checking if a document has the same number of subjects for each language."
   ],
   "cell_type": "markdown",
   "metadata": {}
  },
  {
   "cell_type": "code",
   "execution_count": 42,
   "metadata": {},
   "outputs": [],
   "source": [
    "import json\n",
    "from matplotlib import pyplot as plt"
   ]
  },
  {
   "cell_type": "code",
   "execution_count": 43,
   "metadata": {},
   "outputs": [],
   "source": [
    "repo = 'refubium'\n",
    "docs = json.load(open(f'../../data/json/dim/{repo}/subjects.json'))\n",
    "subjects = json.load(open(f'../../data/json/dim/{repo}/subjects_reversed.json'))"
   ]
  },
  {
   "cell_type": "code",
   "execution_count": 44,
   "metadata": {},
   "outputs": [
    {
     "output_type": "stream",
     "name": "stdout",
     "text": [
      "# of subjects per language\nde: 3289\nen: 23068\nother: 579\nunknown: 51419\nTotal: 78355\n"
     ]
    }
   ],
   "source": [
    "print('# of subjects per language')\n",
    "total = 0\n",
    "for key in subjects:\n",
    "    total += len(subjects[key])\n",
    "    print(f'{key}: {len(subjects[key])}')\n",
    "print(f'Total: {total}')"
   ]
  },
  {
   "cell_type": "code",
   "execution_count": 45,
   "metadata": {},
   "outputs": [],
   "source": [
    "def cnt_docs(doc, lang):\n",
    "    cnt = 0\n",
    "    for subject_type in doc:\n",
    "        cnt += len(doc[subject_type][lang])\n",
    "    return cnt"
   ]
  },
  {
   "cell_type": "code",
   "execution_count": 46,
   "metadata": {},
   "outputs": [
    {
     "output_type": "stream",
     "name": "stdout",
     "text": [
      "Out of the 28720 documents, 21701 of them have the same number of english subjects as they have german subjects. A probable cause of this is that ones are the translations of the others.\n"
     ]
    }
   ],
   "source": [
    "cnt = 0\n",
    "for id in docs:\n",
    "    if cnt_docs(docs[id], 'de') == cnt_docs(docs[id], 'en'):\n",
    "        cnt += 1\n",
    "print(f'Out of the {len(docs)} documents, {cnt} of them have the same number of english subjects as they have german subjects. A probable cause of this is that ones are the translations of the others.')"
   ]
  },
  {
   "cell_type": "code",
   "execution_count": 50,
   "metadata": {},
   "outputs": [],
   "source": [
    "def extract_numbers(text):\n",
    "    if text is None:\n",
    "        return []\n",
    "    numbers = []\n",
    "    n = ''\n",
    "    for char in text:\n",
    "        if char.isdigit():\n",
    "            n += char\n",
    "        elif len(n) > 0:\n",
    "            if char == '.':\n",
    "                n += char\n",
    "            else:\n",
    "                numbers.append(n)\n",
    "                n = ''\n",
    "    if len(n) > 0:\n",
    "        numbers.append(n)\n",
    "        n = ''\n",
    "    return numbers"
   ]
  },
  {
   "cell_type": "code",
   "execution_count": 51,
   "metadata": {},
   "outputs": [],
   "source": [
    "def count_ddc(data):\n",
    "    at_least, total, cnt_0, cnt_00, cnt = 0, 0, 0, 0, 0\n",
    "    for id in data:\n",
    "        ddcs = sum(data[id]['ddc'].values(), [])\n",
    "        at_least += len(ddcs) > 0\n",
    "        total += len(ddcs)\n",
    "        for ddc in ddcs:\n",
    "            for n in extract_numbers(ddc):\n",
    "                if n[-2:] == '00':\n",
    "                    cnt_00 += 1\n",
    "                elif n[-1:] == '0':\n",
    "                    cnt_0 += 1\n",
    "                else:\n",
    "                    cnt += 1\n",
    "    print(f'Out of the {len(data)} documents, {at_least} of them have at least one DDC subject ({round(100*at_least/len(data), 2)} %).')\n",
    "    print(f'In total there are {total} DDC subjects, resulting in an avg. of {round(total/len(data), 2)} per document.')\n",
    "    print(f'{cnt_00} of the subjects (with duplicates) end in 00')\n",
    "    print(f'{cnt_0} of the subjects (with duplicates) end in 0')\n",
    "    print(f'{cnt} of the subjects (with duplicates) are more specific than that')\n",
    "    return (at_least, total, cnt_0, cnt_00, cnt)"
   ]
  },
  {
   "cell_type": "code",
   "execution_count": 52,
   "metadata": {},
   "outputs": [
    {
     "output_type": "stream",
     "name": "stdout",
     "text": [
      "Out of the 28720 documents, 28664 of them have at least one DDC subject (99.81 %).\nIn total there are 32620 DDC subjects, resulting in an avg. of 1.14 per document.\n2387 of the subjects (with duplicates) end in 00\n23612 of the subjects (with duplicates) end in 0\n6620 of the subjects (with duplicates) are more specific than that\n"
     ]
    },
    {
     "output_type": "execute_result",
     "data": {
      "text/plain": [
       "(28664, 32620, 23612, 2387, 6620)"
      ]
     },
     "metadata": {},
     "execution_count": 52
    }
   ],
   "source": [
    "count_ddc(docs)"
   ]
  },
  {
   "source": [
    "Now I'll look only at theses and publications written in english."
   ],
   "cell_type": "markdown",
   "metadata": {}
  },
  {
   "cell_type": "code",
   "execution_count": 53,
   "metadata": {},
   "outputs": [
    {
     "output_type": "execute_result",
     "data": {
      "text/plain": [
       "(28720, 14464)"
      ]
     },
     "metadata": {},
     "execution_count": 53
    }
   ],
   "source": [
    "relevant_ids = json.load(open(f'../../data/json/dim/{repo}/relevant.json'))\n",
    "relevant_docs = {k: v for k, v in docs.items() if k in relevant_ids}\n",
    "len(docs), len(relevant_docs)"
   ]
  },
  {
   "cell_type": "code",
   "execution_count": 54,
   "metadata": {},
   "outputs": [
    {
     "output_type": "stream",
     "name": "stdout",
     "text": [
      "Out of the 14464 documents, 14424 of them have at least one DDC subject (99.72 %).\nIn total there are 17013 DDC subjects, resulting in an avg. of 1.18 per document.\n1276 of the subjects (with duplicates) end in 00\n11063 of the subjects (with duplicates) end in 0\n4674 of the subjects (with duplicates) are more specific than that\n"
     ]
    }
   ],
   "source": [
    "at_least, total, cnt_0, cnt_00, cnt = count_ddc(relevant_docs)"
   ]
  },
  {
   "cell_type": "code",
   "execution_count": 55,
   "metadata": {},
   "outputs": [],
   "source": [
    "facts_relevant = {\n",
    "    'n_all_docs': len(docs),\n",
    "    'n_docs': len(relevant_docs),\n",
    "    'at_least': at_least,\n",
    "    'cnt_0': cnt_0,\n",
    "    'cnt_00': cnt_00,\n",
    "    'cnt': cnt\n",
    "}\n",
    "# json.dump(facts_relevant, open(f'relevant_facts_{repo}.json', 'w'))"
   ]
  }
 ]
}