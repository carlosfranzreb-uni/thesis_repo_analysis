{
 "cells": [
  {
   "cell_type": "code",
   "execution_count": 1,
   "source": [
    "import json"
   ],
   "outputs": [],
   "metadata": {}
  },
  {
   "cell_type": "code",
   "execution_count": 2,
   "source": [
    "titles = json.load(open('../../../data/json/dim/all/best_titles.json'))\r\n",
    "abstracts = json.load(open('../../../data/json/dim/all/best_abstracts.json'))\r\n",
    "data = json.load(open('../../../data/json/dim/all/relevant_data.json'))"
   ],
   "outputs": [],
   "metadata": {}
  },
  {
   "cell_type": "code",
   "execution_count": 3,
   "source": [
    "eng_titles = sum([lang is not None for lang in titles.values()])\r\n",
    "print(f'Title in English found for {eng_titles} out of {len(titles)} documents ({round(eng_titles/len(titles), 2)}) with titles in foreign language.')"
   ],
   "outputs": [
    {
     "output_type": "stream",
     "name": "stdout",
     "text": [
      "Title in English found for 443 out of 678 documents (0.65) with titles in foreign language.\n"
     ]
    }
   ],
   "metadata": {}
  },
  {
   "cell_type": "code",
   "execution_count": 4,
   "source": [
    "eng_abstracts = sum([lang is not None for lang in abstracts.values()])\r\n",
    "print(f'Abstract in English found for {eng_abstracts} out of {len(abstracts)} documents ({round(eng_abstracts/len(abstracts), 2)}) with abstracts in foreign language.')"
   ],
   "outputs": [
    {
     "output_type": "stream",
     "name": "stdout",
     "text": [
      "Abstract in English found for 306 out of 320 documents (0.96) with abstracts in foreign language.\n"
     ]
    }
   ],
   "metadata": {}
  },
  {
   "cell_type": "code",
   "execution_count": null,
   "source": [],
   "outputs": [],
   "metadata": {}
  }
 ],
 "metadata": {
  "orig_nbformat": 4,
  "language_info": {
   "name": "python",
   "version": "3.7.6",
   "mimetype": "text/x-python",
   "codemirror_mode": {
    "name": "ipython",
    "version": 3
   },
   "pygments_lexer": "ipython3",
   "nbconvert_exporter": "python",
   "file_extension": ".py"
  },
  "kernelspec": {
   "name": "python3",
   "display_name": "Python 3.7.6 64-bit ('base': conda)"
  },
  "interpreter": {
   "hash": "afec8bd1b97d7d536c9012edeeda7c68a0e99e84af90a3d324c5b7b0f06b2586"
  }
 },
 "nbformat": 4,
 "nbformat_minor": 2
}