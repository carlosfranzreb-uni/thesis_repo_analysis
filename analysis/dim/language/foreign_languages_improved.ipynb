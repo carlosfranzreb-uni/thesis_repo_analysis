{
 "cells": [
  {
   "cell_type": "markdown",
   "source": [
    "How many titles and abstracts are actually not in english? Which ones? Use the file created by `detect_language.py`."
   ],
   "metadata": {}
  },
  {
   "cell_type": "code",
   "execution_count": 1,
   "source": [
    "import json\r\n",
    "from matplotlib import pyplot as plt"
   ],
   "outputs": [],
   "metadata": {}
  },
  {
   "cell_type": "code",
   "execution_count": 2,
   "source": [
    "foreign = json.load(open('../../../data/json/dim/all/language/foreign_languages_improved.json'))\r\n",
    "data = json.load(open('../../../data/json/dim/all/improved_data.json'))"
   ],
   "outputs": [],
   "metadata": {}
  },
  {
   "cell_type": "code",
   "execution_count": 3,
   "source": [
    "for text in ('title', 'abstract'):\r\n",
    "  print(len(foreign[text]), len(foreign[text])/len(data))"
   ],
   "outputs": [
    {
     "output_type": "stream",
     "name": "stdout",
     "text": [
      "271 0.009218000612265723\n",
      "14 0.00047620667369638423\n"
     ]
    }
   ],
   "metadata": {}
  },
  {
   "cell_type": "code",
   "execution_count": 4,
   "source": [
    "langs = {}\r\n",
    "for id, lang, prob in foreign['title']:\r\n",
    "  if lang not in langs:\r\n",
    "    langs[lang] = 1\r\n",
    "  else:\r\n",
    "    langs[lang] += 1\r\n",
    "langs"
   ],
   "outputs": [
    {
     "output_type": "execute_result",
     "data": {
      "text/plain": [
       "{'et': 2,\n",
       " 'de': 177,\n",
       " 'fr': 15,\n",
       " 'pt': 1,\n",
       " 'da': 11,\n",
       " 'sq': 1,\n",
       " 'it': 20,\n",
       " 'ca': 11,\n",
       " 'tl': 2,\n",
       " 'vi': 3,\n",
       " 'ro': 11,\n",
       " 'so': 1,\n",
       " 'nl': 4,\n",
       " 'cy': 2,\n",
       " 'fi': 1,\n",
       " 'af': 3,\n",
       " 'id': 1,\n",
       " 'tr': 1,\n",
       " 'es': 2,\n",
       " 'no': 1,\n",
       " 'el': 1}"
      ]
     },
     "metadata": {},
     "execution_count": 4
    }
   ],
   "metadata": {}
  },
  {
   "cell_type": "code",
   "execution_count": 5,
   "source": [
    "tu, hu, fu = 0, 0, 0\r\n",
    "for id, lang, prob in foreign['title']:\r\n",
    "  if lang == 'de':\r\n",
    "    if 'depositonce' in id:\r\n",
    "      tu += 1\r\n",
    "    elif 'edoc' in id:\r\n",
    "      hu += 1\r\n",
    "    else:\r\n",
    "      fu += 1\r\n",
    "tu, hu, fu"
   ],
   "outputs": [
    {
     "output_type": "execute_result",
     "data": {
      "text/plain": [
       "(13, 74, 90)"
      ]
     },
     "metadata": {},
     "execution_count": 5
    }
   ],
   "metadata": {}
  },
  {
   "cell_type": "code",
   "execution_count": 6,
   "source": [
    "for id, lang, prob in foreign['title']:\r\n",
    "  if lang == 'pl':\r\n",
    "    print(data[id]['title'])"
   ],
   "outputs": [],
   "metadata": {}
  },
  {
   "cell_type": "code",
   "execution_count": 7,
   "source": [
    "langs = {}\r\n",
    "for id, lang, prob in foreign['abstract']:\r\n",
    "  if lang not in langs:\r\n",
    "    langs[lang] = 1\r\n",
    "  else:\r\n",
    "    langs[lang] += 1\r\n",
    "langs"
   ],
   "outputs": [
    {
     "output_type": "execute_result",
     "data": {
      "text/plain": [
       "{'de': 13, 'pl': 1}"
      ]
     },
     "metadata": {},
     "execution_count": 7
    }
   ],
   "metadata": {}
  },
  {
   "cell_type": "code",
   "execution_count": 8,
   "source": [
    "for id, lang, prob in foreign['abstract']:\r\n",
    "  if lang == 'pt':\r\n",
    "    print(data[id]['title'])"
   ],
   "outputs": [],
   "metadata": {}
  },
  {
   "cell_type": "code",
   "execution_count": 9,
   "source": [
    "def avg_length(data, foreign, text_type, language):\r\n",
    "  text_ids = [t[0] for t in foreign[text_type] if t[1] == language]\r\n",
    "  text_lengths = [len(data[id][text_type]) for id in text_ids]\r\n",
    "  return sum(text_lengths) / len(text_lengths)"
   ],
   "outputs": [],
   "metadata": {}
  },
  {
   "cell_type": "code",
   "execution_count": 10,
   "source": [
    "lengths = {}\r\n",
    "for text_type in ('title', 'abstract'):\r\n",
    "  langs = []\r\n",
    "  lengths[text_type] = {}\r\n",
    "  for id, lang, prob in foreign[text_type]:\r\n",
    "    if lang not in langs:\r\n",
    "      langs.append(lang)\r\n",
    "      lengths[text_type][lang] = avg_length(data, foreign, text_type, lang)"
   ],
   "outputs": [],
   "metadata": {}
  },
  {
   "cell_type": "code",
   "execution_count": 11,
   "source": [
    "de_title = lengths['title']['de']\r\n",
    "de_abstract = lengths['abstract']['de']\r\n",
    "other_titles = [length for lang, length in lengths['title'].items() if lang != 'de']\r\n",
    "other_abstracts = [length for lang, length in lengths['abstract'].items() if lang != 'de']\r\n",
    "other_title = sum(other_titles) / len(other_titles)\r\n",
    "other_abstract = sum(other_abstracts) / len(other_abstracts)\r\n",
    "de_title, de_abstract, other_title, other_abstract"
   ],
   "outputs": [
    {
     "output_type": "execute_result",
     "data": {
      "text/plain": [
       "(80.05649717514125, 1145.2307692307693, 19.03719696969697, 1173.0)"
      ]
     },
     "metadata": {},
     "execution_count": 11
    }
   ],
   "metadata": {}
  },
  {
   "cell_type": "code",
   "execution_count": 12,
   "source": [
    "width = .4\r\n",
    "plt.bar([0, 1], [de_title, de_abstract], width=width, label='German')\r\n",
    "plt.bar([.4, 1.4], [other_title, other_abstract], width=width, label='Other languages')\r\n",
    "plt.legend()\r\n",
    "plt.yscale('log')\r\n",
    "plt.xticks([0.2, 1.2], ['Title', 'Abstract'])\r\n",
    "plt.ylabel('No. of characters (log. scale)')"
   ],
   "outputs": [
    {
     "output_type": "execute_result",
     "data": {
      "text/plain": [
       "Text(0, 0.5, 'No. of characters (log. scale)')"
      ]
     },
     "metadata": {},
     "execution_count": 12
    },
    {
     "output_type": "display_data",
     "data": {
      "image/png": "[encoded data removed]",
      "text/plain": [
       "<Figure size 432x288 with 1 Axes>"
      ]
     },
     "metadata": {
      "needs_background": "light"
     }
    }
   ],
   "metadata": {}
  },
  {
   "cell_type": "code",
   "execution_count": 13,
   "source": [
    "for id, _, _ in foreign['abstract']:\r\n",
    "  print(data[id]['abstract'][:20])"
   ],
   "outputs": [
    {
     "output_type": "stream",
     "name": "stdout",
     "text": [
      "Zirkuläre RNAs sind \n",
      "In diesem Beitrag wi\n",
      "Die alternative Bere\n",
      "Obecnie światowa baz\n",
      "Νόστος ist ein zentr\n",
      "Dieser Aufsatz behan\n",
      "Die im Beitrag vorge\n",
      "Wie kein anderes The\n",
      "Ausgehend von Entwic\n",
      "In unserer Gesellsch\n",
      "Sexualisierte Gewalt\n",
      "In diesem Beitrag wi\n",
      "In diesem Artikel wi\n",
      "Der Beitrag analysie\n"
     ]
    }
   ],
   "metadata": {}
  },
  {
   "cell_type": "code",
   "execution_count": null,
   "source": [],
   "outputs": [],
   "metadata": {}
  }
 ],
 "metadata": {
  "orig_nbformat": 4,
  "language_info": {
   "name": "python",
   "version": "3.7.6",
   "mimetype": "text/x-python",
   "codemirror_mode": {
    "name": "ipython",
    "version": 3
   },
   "pygments_lexer": "ipython3",
   "nbconvert_exporter": "python",
   "file_extension": ".py"
  },
  "kernelspec": {
   "name": "python3",
   "display_name": "Python 3.7.6 64-bit ('base': conda)"
  },
  "interpreter": {
   "hash": "afec8bd1b97d7d536c9012edeeda7c68a0e99e84af90a3d324c5b7b0f06b2586"
  }
 },
 "nbformat": 4,
 "nbformat_minor": 2
}