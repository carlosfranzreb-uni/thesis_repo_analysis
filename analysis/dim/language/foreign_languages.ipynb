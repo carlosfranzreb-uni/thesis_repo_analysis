{
 "cells": [
  {
   "cell_type": "markdown",
   "source": [
    "How many titles and abstracts are actually not in english? Which ones? Use the file created by `detect_language.py`."
   ],
   "metadata": {}
  },
  {
   "cell_type": "code",
   "execution_count": 1,
   "source": [
    "import json\r\n",
    "from matplotlib import pyplot as plt"
   ],
   "outputs": [],
   "metadata": {}
  },
  {
   "cell_type": "code",
   "execution_count": 2,
   "source": [
    "foreign = json.load(open('../../../data/json/dim/all/foreign_languages.json'))\r\n",
    "data = json.load(open('../../../data/json/dim/all/relevant_data.json'))"
   ],
   "outputs": [],
   "metadata": {}
  },
  {
   "cell_type": "code",
   "execution_count": 3,
   "source": [
    "for text in ('title', 'abstract'):\r\n",
    "  print(len(foreign[text]), len(foreign[text])/len(data))"
   ],
   "outputs": [
    {
     "output_type": "stream",
     "name": "stdout",
     "text": [
      "678 0.02306200891186775\n",
      "320 0.010884723970203068\n"
     ]
    }
   ],
   "metadata": {}
  },
  {
   "cell_type": "code",
   "execution_count": 4,
   "source": [
    "langs = {}\r\n",
    "for id, lang, prob in foreign['title']:\r\n",
    "  if lang not in langs:\r\n",
    "    langs[lang] = 1\r\n",
    "  else:\r\n",
    "    langs[lang] += 1\r\n",
    "langs"
   ],
   "outputs": [
    {
     "output_type": "execute_result",
     "data": {
      "text/plain": [
       "{'de': 542,\n",
       " 'no': 5,\n",
       " 'et': 4,\n",
       " 'da': 12,\n",
       " 'id': 3,\n",
       " 'pl': 2,\n",
       " 'fr': 19,\n",
       " 'af': 5,\n",
       " 'sq': 1,\n",
       " 'it': 21,\n",
       " 'so': 2,\n",
       " 'ro': 23,\n",
       " 'ca': 12,\n",
       " 'tl': 8,\n",
       " 'vi': 4,\n",
       " 'nl': 6,\n",
       " 'cy': 3,\n",
       " 'fi': 1,\n",
       " 'es': 2,\n",
       " 'sv': 1,\n",
       " 'sw': 1,\n",
       " 'el': 1}"
      ]
     },
     "metadata": {},
     "execution_count": 4
    }
   ],
   "metadata": {}
  },
  {
   "cell_type": "code",
   "execution_count": 5,
   "source": [
    "tu, hu, fu = 0, 0, 0\r\n",
    "for id, lang, prob in foreign['title']:\r\n",
    "  if lang == 'de':\r\n",
    "    if 'depositonce' in id:\r\n",
    "      tu += 1\r\n",
    "    elif 'edoc' in id:\r\n",
    "      hu += 1\r\n",
    "    else:\r\n",
    "      fu += 1\r\n",
    "tu, hu, fu"
   ],
   "outputs": [
    {
     "output_type": "execute_result",
     "data": {
      "text/plain": [
       "(90, 71, 381)"
      ]
     },
     "metadata": {},
     "execution_count": 5
    }
   ],
   "metadata": {}
  },
  {
   "cell_type": "code",
   "execution_count": 6,
   "source": [
    "for id, lang, prob in foreign['title']:\r\n",
    "  if lang == 'pl':\r\n",
    "    print(data[id]['title'])"
   ],
   "outputs": [
    {
     "output_type": "stream",
     "name": "stdout",
     "text": [
      "Przy Bazantarni, Warsaw\n",
      "Democrazy ?!\n"
     ]
    }
   ],
   "metadata": {}
  },
  {
   "cell_type": "code",
   "execution_count": 7,
   "source": [
    "langs = {}\r\n",
    "for id, lang, prob in foreign['abstract']:\r\n",
    "  if lang not in langs:\r\n",
    "    langs[lang] = 1\r\n",
    "  else:\r\n",
    "    langs[lang] += 1\r\n",
    "langs"
   ],
   "outputs": [
    {
     "output_type": "execute_result",
     "data": {
      "text/plain": [
       "{'de': 319, 'pl': 1}"
      ]
     },
     "metadata": {},
     "execution_count": 7
    }
   ],
   "metadata": {}
  },
  {
   "cell_type": "code",
   "execution_count": 8,
   "source": [
    "for id, lang, prob in foreign['abstract']:\r\n",
    "  if lang == 'pt':\r\n",
    "    print(data[id]['title'])"
   ],
   "outputs": [],
   "metadata": {}
  },
  {
   "cell_type": "code",
   "execution_count": 9,
   "source": [
    "def avg_length(data, foreign, text_type, language):\r\n",
    "  text_ids = [t[0] for t in foreign[text_type] if t[1] == language]\r\n",
    "  text_lengths = [len(data[id][text_type]) for id in text_ids]\r\n",
    "  return sum(text_lengths) / len(text_lengths)"
   ],
   "outputs": [],
   "metadata": {}
  },
  {
   "cell_type": "code",
   "execution_count": 10,
   "source": [
    "lengths = {}\r\n",
    "for text_type in ('title', 'abstract'):\r\n",
    "  langs = []\r\n",
    "  lengths[text_type] = {}\r\n",
    "  for id, lang, prob in foreign[text_type]:\r\n",
    "    if lang not in langs:\r\n",
    "      langs.append(lang)\r\n",
    "      lengths[text_type][lang] = avg_length(data, foreign, text_type, lang)"
   ],
   "outputs": [],
   "metadata": {}
  },
  {
   "cell_type": "code",
   "execution_count": 11,
   "source": [
    "de_title = lengths['title']['de']\r\n",
    "de_abstract = lengths['abstract']['de']\r\n",
    "other_titles = [length for lang, length in lengths['title'].items() if lang != 'de']\r\n",
    "other_abstracts = [length for lang, length in lengths['abstract'].items() if lang != 'de']\r\n",
    "other_title = sum(other_titles) / len(other_titles)\r\n",
    "other_abstract = sum(other_abstracts) / len(other_abstracts)\r\n",
    "de_title, de_abstract, other_title, other_abstract"
   ],
   "outputs": [
    {
     "output_type": "execute_result",
     "data": {
      "text/plain": [
       "(83.73431734317343, 3247.561128526646, 20.806458693317143, 1173.0)"
      ]
     },
     "metadata": {},
     "execution_count": 11
    }
   ],
   "metadata": {}
  },
  {
   "cell_type": "code",
   "execution_count": 12,
   "source": [
    "width = .4\r\n",
    "plt.bar([0, 1], [de_title, de_abstract], width=width, label='German')\r\n",
    "plt.bar([.4, 1.4], [other_title, other_abstract], width=width, label='Other languages')\r\n",
    "plt.legend()\r\n",
    "plt.yscale('log')\r\n",
    "plt.xticks([0.2, 1.2], ['Title', 'Abstract'])\r\n",
    "plt.ylabel('No. of characters (log. scale)')"
   ],
   "outputs": [
    {
     "output_type": "execute_result",
     "data": {
      "text/plain": [
       "Text(0, 0.5, 'No. of characters (log. scale)')"
      ]
     },
     "metadata": {},
     "execution_count": 12
    },
    {
     "output_type": "display_data",
     "data": {
      "image/png": "[encoded data removed]",
      "text/plain": [
       "<Figure size 432x288 with 1 Axes>"
      ]
     },
     "metadata": {
      "needs_background": "light"
     }
    }
   ],
   "metadata": {}
  },
  {
   "cell_type": "code",
   "execution_count": null,
   "source": [],
   "outputs": [],
   "metadata": {}
  }
 ],
 "metadata": {
  "orig_nbformat": 4,
  "language_info": {
   "name": "python",
   "version": "3.7.6",
   "mimetype": "text/x-python",
   "codemirror_mode": {
    "name": "ipython",
    "version": 3
   },
   "pygments_lexer": "ipython3",
   "nbconvert_exporter": "python",
   "file_extension": ".py"
  },
  "kernelspec": {
   "name": "python3",
   "display_name": "Python 3.7.6 64-bit ('base': conda)"
  },
  "interpreter": {
   "hash": "afec8bd1b97d7d536c9012edeeda7c68a0e99e84af90a3d324c5b7b0f06b2586"
  }
 },
 "nbformat": 4,
 "nbformat_minor": 2
}