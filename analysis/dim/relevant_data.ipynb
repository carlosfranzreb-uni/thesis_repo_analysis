{
 "cells": [
  {
   "cell_type": "code",
   "execution_count": 1,
   "source": [
    "import json\r\n",
    "from matplotlib import pyplot as plt"
   ],
   "outputs": [],
   "metadata": {}
  },
  {
   "cell_type": "code",
   "execution_count": 11,
   "source": [
    "data = json.load(open('../../data/json/dim/all/relevant_data.json'))\r\n",
    "types = json.load(open('../../data/json/dim/all/relevant_types.json'))"
   ],
   "outputs": [],
   "metadata": {}
  },
  {
   "cell_type": "code",
   "execution_count": 3,
   "source": [
    "tu = {id: value for id, value in data.items() if 'depositonce' in id}\r\n",
    "hu = {id: value for id, value in data.items() if 'edoc' in id}\r\n",
    "fu = {id: value for id, value in data.items() if 'refubium' in id}\r\n",
    "print(f'There are {len(data)} documents in the corpus')\r\n",
    "print(f'{len(tu)} of them belong to depositonce ({round(len(tu)/len(data), 2)})')\r\n",
    "print(f'{len(hu)} of them belong to edoc ({round(len(hu)/len(data), 2)})')\r\n",
    "print(f'{len(fu)} of them belong to refubium ({round(len(fu)/len(data), 2)})')"
   ],
   "outputs": [
    {
     "output_type": "stream",
     "name": "stdout",
     "text": [
      "There are 29399 documents in the corpus\n",
      "7438 of them belong to depositonce (0.25)\n",
      "7497 of them belong to edoc (0.26)\n",
      "14464 of them belong to refubium (0.49)\n"
     ]
    }
   ],
   "metadata": {}
  },
  {
   "cell_type": "code",
   "execution_count": 4,
   "source": [
    "plt.pie([len(tu), len(hu), len(fu)], labels=['TU', 'HU', 'FU'])\r\n",
    "plt.show()"
   ],
   "outputs": [
    {
     "output_type": "display_data",
     "data": {
      "text/plain": [
       "<Figure size 432x288 with 1 Axes>"
      ],
      "image/svg+xml": "<?xml version=\"1.0\" encoding=\"utf-8\" standalone=\"no\"?>\r\n<!DOCTYPE svg PUBLIC \"-//W3C//DTD SVG 1.1//EN\"\r\n  \"http://www.w3.org/Graphics/SVG/1.1/DTD/svg11.dtd\">\r\n<!-- Created with matplotlib (https://matplotlib.org/) -->\r\n<svg height=\"231.84pt\" version=\"1.1\" viewBox=\"0 0 231.84 231.84\" width=\"231.84pt\" xmlns=\"http://www.w3.org/2000/svg\" xmlns:xlink=\"http://www.w3.org/1999/xlink\">\r\n <defs>\r\n  <style type=\"text/css\">\r\n*{stroke-linecap:butt;stroke-linejoin:round;}\r\n  </style>\r\n </defs>\r\n <g id=\"figure_1\">\r\n  <g id=\"patch_1\">\r\n   <path d=\"M 0 231.84 \r\nL 231.84 231.84 \r\nL 231.84 0 \r\nL 0 0 \r\nz\r\n\" style=\"fill:none;\"/>\r\n  </g>\r\n  <g id=\"axes_1\">\r\n   <g id=\"patch_2\">\r\n    <path d=\"M 202.896 115.92 \r\nC 202.896 104.360387 200.591491 92.915916 196.11751 82.257203 \r\nC 191.64353 71.59849 185.089207 61.937873 176.838607 53.841438 \r\nC 168.588008 45.745003 158.805496 39.374043 148.0643 35.10188 \r\nC 137.323105 30.829716 125.837207 28.741458 114.27965 28.95947 \r\nL 115.92 115.92 \r\nL 202.896 115.92 \r\nz\r\n\" style=\"fill:#1f77b4;\"/>\r\n   </g>\r\n   <g id=\"patch_3\">\r\n    <path d=\"M 114.27965 28.95947 \r\nC 102.629811 29.179222 91.142039 31.737791 80.500091 36.482889 \r\nC 69.858142 41.227987 60.277429 48.063564 52.3282 56.582765 \r\nC 44.37897 65.101965 38.222131 75.132345 34.224141 86.076891 \r\nC 30.22615 97.021437 28.467934 108.658613 29.054142 120.295768 \r\nL 115.92 115.92 \r\nL 114.27965 28.95947 \r\nz\r\n\" style=\"fill:#ff7f0e;\"/>\r\n   </g>\r\n   <g id=\"patch_4\">\r\n    <path d=\"M 29.054142 120.295768 \r\nC 30.195191 142.947368 40.152296 164.277797 56.783524 179.698537 \r\nC 73.414752 195.119277 95.435437 203.439165 118.108577 202.86846 \r\nC 140.781717 202.297755 162.355942 192.880541 178.190291 176.642611 \r\nC 194.02464 160.404681 202.896 138.600321 202.896 115.92 \r\nL 115.92 115.92 \r\nL 29.054142 120.295768 \r\nz\r\n\" style=\"fill:#2ca02c;\"/>\r\n   </g>\r\n   <g id=\"matplotlib.axis_1\"/>\r\n   <g id=\"matplotlib.axis_2\"/>\r\n   <g id=\"text_1\">\r\n    <!-- TU -->\r\n    <defs>\r\n     <path d=\"M -0.296875 72.90625 \r\nL 61.375 72.90625 \r\nL 61.375 64.59375 \r\nL 35.5 64.59375 \r\nL 35.5 0 \r\nL 25.59375 0 \r\nL 25.59375 64.59375 \r\nL -0.296875 64.59375 \r\nz\r\n\" id=\"DejaVuSans-84\"/>\r\n     <path d=\"M 8.6875 72.90625 \r\nL 18.609375 72.90625 \r\nL 18.609375 28.609375 \r\nQ 18.609375 16.890625 22.84375 11.734375 \r\nQ 27.09375 6.59375 36.625 6.59375 \r\nQ 46.09375 6.59375 50.34375 11.734375 \r\nQ 54.59375 16.890625 54.59375 28.609375 \r\nL 54.59375 72.90625 \r\nL 64.5 72.90625 \r\nL 64.5 27.390625 \r\nQ 64.5 13.140625 57.4375 5.859375 \r\nQ 50.390625 -1.421875 36.625 -1.421875 \r\nQ 22.796875 -1.421875 15.734375 5.859375 \r\nQ 8.6875 13.140625 8.6875 27.390625 \r\nz\r\n\" id=\"DejaVuSans-85\"/>\r\n    </defs>\r\n    <g transform=\"translate(182.930468 50.392957)scale(0.1 -0.1)\">\r\n     <use xlink:href=\"#DejaVuSans-84\"/>\r\n     <use x=\"61.083984\" xlink:href=\"#DejaVuSans-85\"/>\r\n    </g>\r\n   </g>\r\n   <g id=\"text_2\">\r\n    <!-- HU -->\r\n    <defs>\r\n     <path d=\"M 9.8125 72.90625 \r\nL 19.671875 72.90625 \r\nL 19.671875 43.015625 \r\nL 55.515625 43.015625 \r\nL 55.515625 72.90625 \r\nL 65.375 72.90625 \r\nL 65.375 0 \r\nL 55.515625 0 \r\nL 55.515625 34.71875 \r\nL 19.671875 34.71875 \r\nL 19.671875 0 \r\nL 9.8125 0 \r\nz\r\n\" id=\"DejaVuSans-72\"/>\r\n    </defs>\r\n    <g transform=\"translate(31.129957 53.408416)scale(0.1 -0.1)\">\r\n     <use xlink:href=\"#DejaVuSans-72\"/>\r\n     <use x=\"75.195312\" xlink:href=\"#DejaVuSans-85\"/>\r\n    </g>\r\n   </g>\r\n   <g id=\"text_3\">\r\n    <!-- FU -->\r\n    <defs>\r\n     <path d=\"M 9.8125 72.90625 \r\nL 51.703125 72.90625 \r\nL 51.703125 64.59375 \r\nL 19.671875 64.59375 \r\nL 19.671875 43.109375 \r\nL 48.578125 43.109375 \r\nL 48.578125 34.8125 \r\nL 19.671875 34.8125 \r\nL 19.671875 0 \r\nL 9.8125 0 \r\nz\r\n\" id=\"DejaVuSans-70\"/>\r\n    </defs>\r\n    <g transform=\"translate(118.327435 214.322681)scale(0.1 -0.1)\">\r\n     <use xlink:href=\"#DejaVuSans-70\"/>\r\n     <use x=\"57.519531\" xlink:href=\"#DejaVuSans-85\"/>\r\n    </g>\r\n   </g>\r\n  </g>\r\n </g>\r\n</svg>\r\n",
      "image/png": "[encoded data removed]"
     },
     "metadata": {}
    }
   ],
   "metadata": {}
  },
  {
   "cell_type": "code",
   "execution_count": 5,
   "source": [
    "def get_nulls(data):\r\n",
    "  title, abstract, both = 0, 0, 0\r\n",
    "  for elem in data:\r\n",
    "    null_title = data[elem]['title'] is None\r\n",
    "    null_abstract = data[elem]['abstract'] is None\r\n",
    "    if null_title and null_abstract:\r\n",
    "      both += 1\r\n",
    "    elif null_title:\r\n",
    "      title += 1\r\n",
    "    elif null_abstract:\r\n",
    "      abstract += 1\r\n",
    "  return title, abstract, both"
   ],
   "outputs": [],
   "metadata": {}
  },
  {
   "cell_type": "code",
   "execution_count": 6,
   "source": [
    "for k, v in {'TU': tu, 'HU': hu, 'FU': fu}.items():\r\n",
    "  print(k)\r\n",
    "  title, abstract, both = get_nulls(v)\r\n",
    "  print(f'{both} documents are completely empty ({round(both/len(v), 2)}).')\r\n",
    "  print(f'{title} documents have empty titles ({round(title/len(v), 2)}).')\r\n",
    "  print(f'{abstract} documents have empty abstracts ({round(abstract/len(v), 2)}).')\r\n",
    "  print(f'In total, {both+title+abstract} documents are incomplete ({round((both+title+abstract)/len(v), 2)}).\\n')"
   ],
   "outputs": [
    {
     "output_type": "stream",
     "name": "stdout",
     "text": [
      "TU\n",
      "0 documents are completely empty (0.0).\n",
      "0 documents have empty titles (0.0).\n",
      "135 documents have empty abstracts (0.02).\n",
      "In total, 135 documents are incomplete (0.02).\n",
      "\n",
      "HU\n",
      "0 documents are completely empty (0.0).\n",
      "0 documents have empty titles (0.0).\n",
      "922 documents have empty abstracts (0.12).\n",
      "In total, 922 documents are incomplete (0.12).\n",
      "\n",
      "FU\n",
      "0 documents are completely empty (0.0).\n",
      "0 documents have empty titles (0.0).\n",
      "776 documents have empty abstracts (0.05).\n",
      "In total, 776 documents are incomplete (0.05).\n",
      "\n"
     ]
    }
   ],
   "metadata": {}
  },
  {
   "cell_type": "code",
   "execution_count": 13,
   "source": [
    "n_thesis, n_publications = 0, 0\r\n",
    "for doc_type in types.values():\r\n",
    "    if 'thesis' in doc_type:\r\n",
    "        n_thesis += 1\r\n",
    "    else:\r\n",
    "        n_publications += 1\r\n",
    "n_thesis, n_publications, n_thesis + n_publications"
   ],
   "outputs": [
    {
     "output_type": "execute_result",
     "data": {
      "text/plain": [
       "(10765, 18634, 29399)"
      ]
     },
     "metadata": {},
     "execution_count": 13
    }
   ],
   "metadata": {}
  },
  {
   "cell_type": "code",
   "execution_count": 15,
   "source": [
    "n_thesis / (n_thesis + n_publications), n_publications / (n_thesis + n_publications)"
   ],
   "outputs": [
    {
     "output_type": "execute_result",
     "data": {
      "text/plain": [
       "(0.3661689173101126, 0.6338310826898874)"
      ]
     },
     "metadata": {},
     "execution_count": 15
    }
   ],
   "metadata": {}
  },
  {
   "cell_type": "code",
   "execution_count": null,
   "source": [],
   "outputs": [],
   "metadata": {}
  }
 ],
 "metadata": {
  "orig_nbformat": 4,
  "language_info": {
   "name": "python",
   "version": "3.7.6",
   "mimetype": "text/x-python",
   "codemirror_mode": {
    "name": "ipython",
    "version": 3
   },
   "pygments_lexer": "ipython3",
   "nbconvert_exporter": "python",
   "file_extension": ".py"
  },
  "kernelspec": {
   "name": "python3",
   "display_name": "Python 3.7.6 64-bit ('base': conda)"
  },
  "interpreter": {
   "hash": "afec8bd1b97d7d536c9012edeeda7c68a0e99e84af90a3d324c5b7b0f06b2586"
  }
 },
 "nbformat": 4,
 "nbformat_minor": 2
}