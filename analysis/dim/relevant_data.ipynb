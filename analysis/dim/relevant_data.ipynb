{
 "cells": [
  {
   "cell_type": "code",
   "execution_count": 1,
   "source": [
    "import json\r\n",
    "from matplotlib import pyplot as plt"
   ],
   "outputs": [],
   "metadata": {}
  },
  {
   "cell_type": "code",
   "execution_count": 2,
   "source": [
    "data = json.load(open('../../data/json/dim/all/relevant_data.json'))"
   ],
   "outputs": [],
   "metadata": {}
  },
  {
   "cell_type": "code",
   "execution_count": 20,
   "source": [
    "tu = {id: value for id, value in data.items() if 'depositonce' in id}\r\n",
    "hu = {id: value for id, value in data.items() if 'edoc' in id}\r\n",
    "fu = {id: value for id, value in data.items() if 'refubium' in id}\r\n",
    "print(f'There are {len(data)} documents in the corpus')\r\n",
    "print(f'{len(tu)} of them belong to depositonce ({round(len(tu)/len(data), 2)})')\r\n",
    "print(f'{len(hu)} of them belong to edoc ({round(len(hu)/len(data), 2)})')\r\n",
    "print(f'{len(fu)} of them belong to refubium ({round(len(fu)/len(data), 2)})')"
   ],
   "outputs": [
    {
     "output_type": "stream",
     "name": "stdout",
     "text": [
      "There are 29399 documents in the corpus\n",
      "7438 of them belong to depositonce (0.25)\n",
      "7497 of them belong to edoc (0.26)\n",
      "14464 of them belong to refubium (0.49)\n"
     ]
    }
   ],
   "metadata": {}
  },
  {
   "cell_type": "code",
   "execution_count": 21,
   "source": [
    "plt.pie([len(tu), len(hu), len(fu)], labels=['TU', 'HU', 'FU'])\r\n",
    "plt.show()"
   ],
   "outputs": [
    {
     "output_type": "display_data",
     "data": {
      "text/plain": [
       "<Figure size 432x288 with 1 Axes>"
      ],
      "image/png": "[encoded data removed]"
     },
     "metadata": {}
    }
   ],
   "metadata": {}
  },
  {
   "cell_type": "code",
   "execution_count": 24,
   "source": [
    "def get_nulls(data):\r\n",
    "  title, abstract, both = 0, 0, 0\r\n",
    "  for elem in data:\r\n",
    "    null_title = data[elem]['title'] is None\r\n",
    "    null_abstract = data[elem]['abstract'] is None\r\n",
    "    if null_title and null_abstract:\r\n",
    "      both += 1\r\n",
    "    elif null_title:\r\n",
    "      title += 1\r\n",
    "    elif null_abstract:\r\n",
    "      abstract += 1\r\n",
    "  return title, abstract, both"
   ],
   "outputs": [],
   "metadata": {}
  },
  {
   "cell_type": "code",
   "execution_count": 27,
   "source": [
    "for k, v in {'TU': tu, 'HU': hu, 'FU': fu}.items():\r\n",
    "  print(k)\r\n",
    "  title, abstract, both = get_nulls(v)\r\n",
    "  print(f'{both} documents are completely empty ({round(both/len(v), 2)}).')\r\n",
    "  print(f'{title} documents have empty titles ({round(title/len(v), 2)}).')\r\n",
    "  print(f'{abstract} documents have empty abstracts ({round(abstract/len(v), 2)}).')\r\n",
    "  print(f'In total, {both+title+abstract} documents are incomplete ({round((both+title+abstract)/len(v), 2)}).\\n')"
   ],
   "outputs": [
    {
     "output_type": "stream",
     "name": "stdout",
     "text": [
      "TU\n",
      "2 documents are completely empty (0.0).\n",
      "7264 documents have empty titles (0.98).\n",
      "172 documents have empty abstracts (0.02).\n",
      "In total, 7438 documents are incomplete (1.0).\n",
      "\n",
      "HU\n",
      "0 documents are completely empty (0.0).\n",
      "6484 documents have empty titles (0.86).\n",
      "1013 documents have empty abstracts (0.14).\n",
      "In total, 7497 documents are incomplete (1.0).\n",
      "\n",
      "FU\n",
      "61 documents are completely empty (0.0).\n",
      "8873 documents have empty titles (0.61).\n",
      "5530 documents have empty abstracts (0.38).\n",
      "In total, 14464 documents are incomplete (1.0).\n",
      "\n"
     ]
    }
   ],
   "metadata": {}
  },
  {
   "cell_type": "code",
   "execution_count": null,
   "source": [],
   "outputs": [],
   "metadata": {}
  }
 ],
 "metadata": {
  "orig_nbformat": 4,
  "language_info": {
   "name": "python",
   "version": "3.7.6",
   "mimetype": "text/x-python",
   "codemirror_mode": {
    "name": "ipython",
    "version": 3
   },
   "pygments_lexer": "ipython3",
   "nbconvert_exporter": "python",
   "file_extension": ".py"
  },
  "kernelspec": {
   "name": "python3",
   "display_name": "Python 3.7.6 64-bit ('base': conda)"
  },
  "interpreter": {
   "hash": "afec8bd1b97d7d536c9012edeeda7c68a0e99e84af90a3d324c5b7b0f06b2586"
  }
 },
 "nbformat": 4,
 "nbformat_minor": 2
}