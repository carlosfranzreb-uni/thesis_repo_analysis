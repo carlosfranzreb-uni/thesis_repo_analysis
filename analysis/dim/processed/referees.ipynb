{
 "cells": [
  {
   "cell_type": "markdown",
   "source": [
    "As shown in `fill_quota.ipynb`, the theses of all three repositories contain referees, whereas only depositonce has a maintained list of advisors. Therefore, referees could be used as a substitute for venues. In refubium the most popular referee is \"N.N.\", which means that there isn't one. Therefore, we don't count it."
   ],
   "metadata": {}
  },
  {
   "cell_type": "code",
   "execution_count": 13,
   "source": [
    "import json\r\n",
    "from matplotlib import pyplot as plt\r\n",
    "from collections import Counter\r\n",
    "import re"
   ],
   "outputs": [],
   "metadata": {}
  },
  {
   "cell_type": "code",
   "execution_count": 14,
   "source": [
    "tu = json.load(open('../../../data/processed/dim/depositonce.json'))\r\n",
    "hu = json.load(open('../../../data/processed/dim/edoc.json'))\r\n",
    "fu = json.load(open('../../../data/processed/dim/refubium.json'))"
   ],
   "outputs": [],
   "metadata": {}
  },
  {
   "cell_type": "code",
   "execution_count": 15,
   "source": [
    "referees = {'TU': {'total': 0, 'distinct': 0}, 'HU': {'total': 0, 'distinct': 0}, 'FU': {'total': 0, 'distinct': 0}}\r\n",
    "seen_referees = {'TU': [], 'HU': [], 'FU': []}\r\n",
    "nulls = {'TU': 0, 'HU': 0, 'FU': 0}\r\n",
    "totals = {'TU': 0, 'HU': 0, 'FU': 0}\r\n",
    "repos = ['TU', 'HU', 'FU']\r\n",
    "for i, repo in enumerate([tu, hu, fu]):\r\n",
    "    for doc in repo:\r\n",
    "        totals[repos[i]] += 1\r\n",
    "        if doc['type'][1] == 'thesis':\r\n",
    "            has_referee = False\r\n",
    "            for author in doc['authors']:\r\n",
    "                if author[1] == 'referee' and re.match('N.[\\s]?N[\\.]?', author[0]) is None:\r\n",
    "                    has_referee = True\r\n",
    "                    referees[repos[i]]['total'] += 1\r\n",
    "                    if author[0] not in seen_referees[repos[i]]:\r\n",
    "                        referees[repos[i]]['distinct'] += 1\r\n",
    "                        seen_referees[repos[i]].append(author[0])\r\n",
    "            if not has_referee:\r\n",
    "                nulls[repos[i]] += 1"
   ],
   "outputs": [],
   "metadata": {}
  },
  {
   "cell_type": "code",
   "execution_count": 16,
   "source": [
    "for repo in referees:\r\n",
    "    print(f'{repo} has {referees[repo][\"total\"]} referees, {referees[repo][\"distinct\"]} distinct ones. {nulls[repo]} documents do not have an referee ({round(nulls[repo]/totals[repo], 2)}).')"
   ],
   "outputs": [
    {
     "output_type": "stream",
     "name": "stdout",
     "text": [
      "TU has 4780 referees, 2388 distinct ones. 1442 documents do not have an referee (0.19).\n",
      "HU has 7289 referees, 3390 distinct ones. 39 documents do not have an referee (0.01).\n",
      "FU has 9133 referees, 4863 distinct ones. 662 documents do not have an referee (0.05).\n"
     ]
    }
   ],
   "metadata": {}
  },
  {
   "cell_type": "markdown",
   "source": [
    "What is the avg. number of referees per thesis? Outliers?"
   ],
   "metadata": {}
  },
  {
   "cell_type": "code",
   "execution_count": 17,
   "source": [
    "referees_per_doc = {'TU': [], 'HU': [], 'FU': []}\r\n",
    "for i, repo in enumerate([tu, hu, fu]):\r\n",
    "    for doc in repo:\r\n",
    "        cnt = 0\r\n",
    "        for author in doc['authors']:\r\n",
    "            if author[1] == 'referee' and re.match('N.[\\s]?N[\\.]?', author[0]) is None:\r\n",
    "                cnt += 1\r\n",
    "        if cnt > 0:\r\n",
    "            referees_per_doc[repos[i]].append(cnt)"
   ],
   "outputs": [],
   "metadata": {}
  },
  {
   "cell_type": "code",
   "execution_count": 18,
   "source": [
    "for repo in referees_per_doc:\r\n",
    "    print(repo, sum(referees_per_doc[repo]) / len(referees_per_doc[repo]))"
   ],
   "outputs": [
    {
     "output_type": "stream",
     "name": "stdout",
     "text": [
      "TU 2.59500542888165\n",
      "HU 2.766223908918406\n",
      "FU 2.1991331567541534\n"
     ]
    }
   ],
   "metadata": {}
  },
  {
   "cell_type": "markdown",
   "source": [
    "Check in how many documents each author occurs."
   ],
   "metadata": {}
  },
  {
   "cell_type": "code",
   "execution_count": 19,
   "source": [
    "people = {'TU': {}, 'HU': {}, 'FU': {}}\r\n",
    "for i, repo in enumerate([tu, hu, fu]):\r\n",
    "    for doc in repo:\r\n",
    "        if doc['type'][1] == 'thesis':\r\n",
    "            for author in doc['authors']:\r\n",
    "                if author[1] == 'referee' and re.match('N.[\\s]?N[\\.]?', author[0]) is None:\r\n",
    "                    if author[0] in people[repos[i]]:\r\n",
    "                        people[repos[i]][author[0]] += 1\r\n",
    "                    else:\r\n",
    "                        people[repos[i]][author[0]] = 1"
   ],
   "outputs": [],
   "metadata": {}
  },
  {
   "cell_type": "code",
   "execution_count": 20,
   "source": [
    "for repo in people:\r\n",
    "    if len(people[repo]) > 0:\r\n",
    "        print(f'{repo} avg.: {round(sum(people[repo].values())/len(people[repo]), 2)}')\r\n",
    "    else:\r\n",
    "        print(f'{repo} avg.: 0')"
   ],
   "outputs": [
    {
     "output_type": "stream",
     "name": "stdout",
     "text": [
      "TU avg.: 2.0\n",
      "HU avg.: 2.15\n",
      "FU avg.: 1.88\n"
     ]
    }
   ],
   "metadata": {}
  },
  {
   "cell_type": "code",
   "execution_count": 21,
   "source": [
    "sorted_people = {'TU': {}, 'HU': {}, 'FU': {}}\r\n",
    "for repo in sorted_people:\r\n",
    "    sorted_people[repo] = {person: n for person, n in sorted(people[repo].items(), key=lambda item: item[1], reverse=True)}"
   ],
   "outputs": [],
   "metadata": {}
  },
  {
   "cell_type": "code",
   "execution_count": 22,
   "source": [
    "for repo in sorted_people:\r\n",
    "    print(repo)\r\n",
    "    cnt = 0\r\n",
    "    for key in sorted_people[repo]:\r\n",
    "        print(key, sorted_people[repo][key])\r\n",
    "        cnt += 1\r\n",
    "        if cnt == 5:\r\n",
    "            print()\r\n",
    "            break"
   ],
   "outputs": [
    {
     "output_type": "stream",
     "name": "stdout",
     "text": [
      "TU\n",
      "Neubauer, Peter 45\n",
      "Lauster, Roland 44\n",
      "Knorr, Andreas 36\n",
      "Müller, Klaus-Robert 35\n",
      "Schomäcker, Reinhard 35\n",
      "\n",
      "HU\n",
      "Härdle, Wolfgang 60\n",
      "Lohse, Thomas 60\n",
      "Benson, Oliver 55\n",
      "Herrmann, Andreas 50\n",
      "Härdle, Wolfgang Karl 47\n",
      "\n",
      "FU\n",
      "Prof. Dr. Rupert Mutzel 72\n",
      "Prof. Dr. Rainer Haag 65\n",
      "Prof. Dr. Udo Heinemann 49\n",
      "Prof. Dr. Martin Vingron 49\n",
      "Prof. Dr. Petra Knaus 41\n",
      "\n"
     ]
    }
   ],
   "metadata": {}
  }
 ],
 "metadata": {
  "orig_nbformat": 4,
  "language_info": {
   "name": "python",
   "version": "3.7.6",
   "mimetype": "text/x-python",
   "codemirror_mode": {
    "name": "ipython",
    "version": 3
   },
   "pygments_lexer": "ipython3",
   "nbconvert_exporter": "python",
   "file_extension": ".py"
  },
  "kernelspec": {
   "name": "python3",
   "display_name": "Python 3.7.6 64-bit ('base': conda)"
  },
  "interpreter": {
   "hash": "afec8bd1b97d7d536c9012edeeda7c68a0e99e84af90a3d324c5b7b0f06b2586"
  }
 },
 "nbformat": 4,
 "nbformat_minor": 2
}