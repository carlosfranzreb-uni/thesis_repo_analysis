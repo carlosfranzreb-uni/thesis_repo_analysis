{
 "cells": [
  {
   "cell_type": "code",
   "execution_count": 2,
   "source": [
    "import json\r\n",
    "from matplotlib import pyplot as plt\r\n",
    "from collections import Counter\r\n",
    "import numpy as np"
   ],
   "outputs": [],
   "metadata": {}
  },
  {
   "cell_type": "code",
   "execution_count": 6,
   "source": [
    "data = {\r\n",
    "    'tu': json.load(open('../../../data/json/dim/depositonce/relevant_data.json')),\r\n",
    "    'hu': json.load(open('../../../data/json/dim/edoc/relevant_data.json')),\r\n",
    "    'fu': json.load(open('../../../data/json/dim/refubium/relevant_data.json'))\r\n",
    "}\r\n",
    "data['all'] = data['tu'].copy()\r\n",
    "data['all'].update(data['hu'])\r\n",
    "data['all'].update(data['fu'])"
   ],
   "outputs": [],
   "metadata": {}
  },
  {
   "cell_type": "code",
   "execution_count": 8,
   "source": [
    "for key in data:\r\n",
    "    print(key, len(data[key]))"
   ],
   "outputs": [
    {
     "output_type": "stream",
     "name": "stdout",
     "text": [
      "tu 7438\n",
      "hu 7497\n",
      "fu 14464\n",
      "all 29399\n"
     ]
    }
   ],
   "metadata": {}
  },
  {
   "cell_type": "code",
   "execution_count": 10,
   "source": [
    "no_title, no_abstract, neither = {'tu': 0, 'hu': 0, 'fu': 0, 'all': 0}, {'tu': 0, 'hu': 0, 'fu': 0, 'all': 0}, {'tu': 0, 'hu': 0, 'fu': 0, 'all': 0}\r\n",
    "for key in data:\r\n",
    "    for doc in data[key].values():\r\n",
    "        if doc['title'] is None:\r\n",
    "            no_title[key] += 1\r\n",
    "        if doc['abstract'] is None:\r\n",
    "            no_abstract[key] += 1\r\n",
    "        if doc['title'] is None and doc['abstract'] is None:\r\n",
    "            neither[key] += 1"
   ],
   "outputs": [],
   "metadata": {}
  },
  {
   "cell_type": "code",
   "execution_count": 11,
   "source": [
    "no_title, no_abstract, neither"
   ],
   "outputs": [
    {
     "output_type": "execute_result",
     "data": {
      "text/plain": [
       "({'tu': 0, 'hu': 0, 'fu': 0, 'all': 0},\n",
       " {'tu': 135, 'hu': 922, 'fu': 776, 'all': 1833},\n",
       " {'tu': 0, 'hu': 0, 'fu': 0, 'all': 0})"
      ]
     },
     "metadata": {},
     "execution_count": 11
    }
   ],
   "metadata": {}
  },
  {
   "cell_type": "code",
   "execution_count": null,
   "source": [],
   "outputs": [],
   "metadata": {}
  }
 ],
 "metadata": {
  "orig_nbformat": 4,
  "language_info": {
   "name": "python",
   "version": "3.7.6",
   "mimetype": "text/x-python",
   "codemirror_mode": {
    "name": "ipython",
    "version": 3
   },
   "pygments_lexer": "ipython3",
   "nbconvert_exporter": "python",
   "file_extension": ".py"
  },
  "kernelspec": {
   "name": "python3",
   "display_name": "Python 3.7.6 64-bit ('base': conda)"
  },
  "interpreter": {
   "hash": "afec8bd1b97d7d536c9012edeeda7c68a0e99e84af90a3d324c5b7b0f06b2586"
  }
 },
 "nbformat": 4,
 "nbformat_minor": 2
}