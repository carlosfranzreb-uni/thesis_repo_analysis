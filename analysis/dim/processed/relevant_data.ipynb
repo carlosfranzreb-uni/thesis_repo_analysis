{
 "cells": [
  {
   "cell_type": "code",
   "execution_count": 1,
   "source": [
    "import json\r\n",
    "from matplotlib import pyplot as plt\r\n",
    "from collections import Counter\r\n",
    "import numpy as np"
   ],
   "outputs": [],
   "metadata": {}
  },
  {
   "cell_type": "code",
   "execution_count": 2,
   "source": [
    "data = {\r\n",
    "    'tu': json.load(open('../../../data/json/dim/depositonce/relevant_data.json')),\r\n",
    "    'hu': json.load(open('../../../data/json/dim/edoc/relevant_data.json')),\r\n",
    "    'fu': json.load(open('../../../data/json/dim/refubium/relevant_data.json'))\r\n",
    "}\r\n",
    "data['all'] = data['tu'].copy()\r\n",
    "data['all'].update(data['hu'])\r\n",
    "data['all'].update(data['fu'])"
   ],
   "outputs": [],
   "metadata": {}
  },
  {
   "cell_type": "code",
   "execution_count": 3,
   "source": [
    "types = {\r\n",
    "    'tu': json.load(open('../../../data/json/dim/depositonce/relevant_types.json')),\r\n",
    "    'hu': json.load(open('../../../data/json/dim/edoc/relevant_types.json')),\r\n",
    "    'fu': json.load(open('../../../data/json/dim/refubium/relevant_types.json'))\r\n",
    "}\r\n",
    "types['all'] = types['tu'].copy()\r\n",
    "types['all'].update(types['hu'])\r\n",
    "types['all'].update(types['fu'])"
   ],
   "outputs": [],
   "metadata": {}
  },
  {
   "cell_type": "code",
   "execution_count": 4,
   "source": [
    "for key in data:\r\n",
    "    print(key, len(data[key]))"
   ],
   "outputs": [
    {
     "output_type": "stream",
     "name": "stdout",
     "text": [
      "tu 7438\n",
      "hu 7497\n",
      "fu 14464\n",
      "all 29399\n"
     ]
    }
   ],
   "metadata": {}
  },
  {
   "cell_type": "code",
   "execution_count": 5,
   "source": [
    "no_title, no_abstract, neither = {'tu': 0, 'hu': 0, 'fu': 0, 'all': 0}, {'tu': 0, 'hu': 0, 'fu': 0, 'all': 0}, {'tu': 0, 'hu': 0, 'fu': 0, 'all': 0}\r\n",
    "for key in data:\r\n",
    "    for doc in data[key].values():\r\n",
    "        if doc['title'] is None:\r\n",
    "            no_title[key] += 1\r\n",
    "        if doc['abstract'] is None:\r\n",
    "            no_abstract[key] += 1\r\n",
    "        if doc['title'] is None and doc['abstract'] is None:\r\n",
    "            neither[key] += 1"
   ],
   "outputs": [],
   "metadata": {}
  },
  {
   "cell_type": "code",
   "execution_count": 6,
   "source": [
    "no_title, no_abstract, neither"
   ],
   "outputs": [
    {
     "output_type": "execute_result",
     "data": {
      "text/plain": [
       "({'tu': 0, 'hu': 0, 'fu': 0, 'all': 0},\n",
       " {'tu': 135, 'hu': 922, 'fu': 776, 'all': 1833},\n",
       " {'tu': 0, 'hu': 0, 'fu': 0, 'all': 0})"
      ]
     },
     "metadata": {},
     "execution_count": 6
    }
   ],
   "metadata": {}
  },
  {
   "cell_type": "code",
   "execution_count": 7,
   "source": [
    "for key, value in no_abstract.items():\r\n",
    "    print(key, value, value/len(data[key]))"
   ],
   "outputs": [
    {
     "output_type": "stream",
     "name": "stdout",
     "text": [
      "tu 135 0.018150040333422962\n",
      "hu 922 0.12298252634387088\n",
      "fu 776 0.053650442477876106\n",
      "all 1833 0.06234905949181945\n"
     ]
    }
   ],
   "metadata": {}
  },
  {
   "cell_type": "code",
   "execution_count": 9,
   "source": [
    "no_abstract_docs = {'tu': [], 'hu': [], 'fu': [], 'all': []}\r\n",
    "for key in data:\r\n",
    "    for id, doc in data[key].items():\r\n",
    "        if doc['abstract'] is None:\r\n",
    "            no_abstract_docs[key].append(id)"
   ],
   "outputs": [],
   "metadata": {}
  },
  {
   "cell_type": "code",
   "execution_count": 13,
   "source": [
    "no_abstract_theses, no_abstract_publications = {'tu': 0, 'hu': 0, 'fu': 0, 'all': 0}, {'tu': 0, 'hu': 0, 'fu': 0, 'all': 0}\r\n",
    "for repo in no_abstract_docs:\r\n",
    "    for id in no_abstract_docs[repo]:\r\n",
    "        if 'thesis' in types[repo][id]:\r\n",
    "            no_abstract_theses[repo] += 1\r\n",
    "        else:\r\n",
    "            no_abstract_publications[repo] += 1"
   ],
   "outputs": [],
   "metadata": {}
  },
  {
   "cell_type": "code",
   "execution_count": 14,
   "source": [
    "no_abstract_theses, no_abstract_publications"
   ],
   "outputs": [
    {
     "output_type": "execute_result",
     "data": {
      "text/plain": [
       "({'tu': 0, 'hu': 25, 'fu': 11, 'all': 36},\n",
       " {'tu': 135, 'hu': 897, 'fu': 765, 'all': 1797})"
      ]
     },
     "metadata": {},
     "execution_count": 14
    }
   ],
   "metadata": {}
  }
 ],
 "metadata": {
  "orig_nbformat": 4,
  "language_info": {
   "name": "python",
   "version": "3.7.6",
   "mimetype": "text/x-python",
   "codemirror_mode": {
    "name": "ipython",
    "version": 3
   },
   "pygments_lexer": "ipython3",
   "nbconvert_exporter": "python",
   "file_extension": ".py"
  },
  "kernelspec": {
   "name": "python3",
   "display_name": "Python 3.7.6 64-bit ('base': conda)"
  },
  "interpreter": {
   "hash": "afec8bd1b97d7d536c9012edeeda7c68a0e99e84af90a3d324c5b7b0f06b2586"
  }
 },
 "nbformat": 4,
 "nbformat_minor": 2
}