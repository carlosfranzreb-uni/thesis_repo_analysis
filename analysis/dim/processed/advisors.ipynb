{
 "cells": [
  {
   "cell_type": "markdown",
   "source": [
    "As shown in `fill_quota.ipynb`, the theses of all three repositories contain referees, whereas only depositonce has a maintained list of advisors. Therefore, referees could be used as a substitute for venues."
   ],
   "metadata": {}
  },
  {
   "cell_type": "code",
   "execution_count": 11,
   "source": [
    "import json\r\n",
    "from matplotlib import pyplot as plt\r\n",
    "from collections import Counter\r\n",
    "import re"
   ],
   "outputs": [],
   "metadata": {}
  },
  {
   "cell_type": "code",
   "execution_count": 2,
   "source": [
    "tu = json.load(open('../../../data/processed/dim/depositonce.json'))\r\n",
    "hu = json.load(open('../../../data/processed/dim/edoc.json'))\r\n",
    "fu = json.load(open('../../../data/processed/dim/refubium.json'))"
   ],
   "outputs": [],
   "metadata": {}
  },
  {
   "cell_type": "code",
   "execution_count": 3,
   "source": [
    "advisors = {'TU': {'total': 0, 'distinct': 0}, 'HU': {'total': 0, 'distinct': 0}, 'FU': {'total': 0, 'distinct': 0}}\r\n",
    "seen_advisors = {'TU': [], 'HU': [], 'FU': []}\r\n",
    "nulls = {'TU': 0, 'HU': 0, 'FU': 0}\r\n",
    "totals = {'TU': 0, 'HU': 0, 'FU': 0}\r\n",
    "repos = ['TU', 'HU', 'FU']\r\n",
    "for i, repo in enumerate([tu, hu, fu]):\r\n",
    "    for doc in repo:\r\n",
    "        if doc['type'][1] == 'thesis':\r\n",
    "            totals[repos[i]] += 1\r\n",
    "            has_advisor = False\r\n",
    "            for author in doc['authors']:\r\n",
    "                if author[1] == 'advisor':\r\n",
    "                    has_advisor = True\r\n",
    "                    advisors[repos[i]]['total'] += 1\r\n",
    "                    if author[0] not in seen_advisors[repos[i]]:\r\n",
    "                        advisors[repos[i]]['distinct'] += 1\r\n",
    "                        seen_advisors[repos[i]].append(author[0])\r\n",
    "            if not has_advisor:\r\n",
    "                nulls[repos[i]] += 1"
   ],
   "outputs": [],
   "metadata": {}
  },
  {
   "cell_type": "code",
   "execution_count": 4,
   "source": [
    "for repo in advisors:\r\n",
    "    print(f'{repo} has {advisors[repo][\"total\"]} advisors, {advisors[repo][\"distinct\"]} distinct ones. {nulls[repo]} documents do not have an advisor ({round(nulls[repo]/totals[repo], 2)}).')"
   ],
   "outputs": [
    {
     "output_type": "stream",
     "name": "stdout",
     "text": [
      "TU has 3603 advisors, 1080 distinct ones. 124 documents do not have an advisor (0.04).\n",
      "HU has 19 advisors, 13 distinct ones. 2659 documents do not have an advisor (0.99).\n",
      "FU has 0 advisors, 0 distinct ones. 4815 documents do not have an advisor (1.0).\n"
     ]
    }
   ],
   "metadata": {}
  },
  {
   "cell_type": "markdown",
   "source": [
    "What is the avg. number of advisors per thesis?"
   ],
   "metadata": {}
  },
  {
   "cell_type": "code",
   "execution_count": 12,
   "source": [
    "advisors_per_doc = {'TU': [], 'HU': [], 'FU': []}\r\n",
    "for i, repo in enumerate([tu, hu, fu]):\r\n",
    "    for doc in repo:\r\n",
    "        cnt = 0\r\n",
    "        for author in doc['authors']:\r\n",
    "            if author[1] == 'advisor' and re.match('N.[\\s]?N[\\.]?', author[0]) is None:\r\n",
    "                cnt += 1\r\n",
    "        if cnt > 0:\r\n",
    "            advisors_per_doc[repos[i]].append(cnt)"
   ],
   "outputs": [],
   "metadata": {}
  },
  {
   "cell_type": "code",
   "execution_count": 15,
   "source": [
    "for repo in advisors_per_doc:\r\n",
    "    if len(advisors_per_doc[repo]) != 0:\r\n",
    "        print(repo, sum(advisors_per_doc[repo]) / len(advisors_per_doc[repo]))\r\n",
    "    else:\r\n",
    "        print(repo, 0)"
   ],
   "outputs": [
    {
     "output_type": "stream",
     "name": "stdout",
     "text": [
      "TU 1.1401898734177216\n",
      "HU 1.2666666666666666\n",
      "FU 0\n"
     ]
    }
   ],
   "metadata": {}
  },
  {
   "cell_type": "markdown",
   "source": [
    "Check in how many documents each author occurs."
   ],
   "metadata": {}
  },
  {
   "cell_type": "code",
   "execution_count": 5,
   "source": [
    "people = {'TU': {}, 'HU': {}, 'FU': {}}\r\n",
    "for i, repo in enumerate([tu, hu, fu]):\r\n",
    "    for doc in repo:\r\n",
    "        if doc['type'][1] == 'thesis':\r\n",
    "            for author in doc['authors']:\r\n",
    "                if author[1] == 'advisor':\r\n",
    "                    if author[0] in people[repos[i]]:\r\n",
    "                        people[repos[i]][author[0]] += 1\r\n",
    "                    else:\r\n",
    "                        people[repos[i]][author[0]] = 1"
   ],
   "outputs": [],
   "metadata": {}
  },
  {
   "cell_type": "code",
   "execution_count": 6,
   "source": [
    "for repo in people:\r\n",
    "    if len(people[repo]) > 0:\r\n",
    "        print(f'{repo} avg.: {round(sum(people[repo].values())/len(people[repo]), 2)}')\r\n",
    "    else:\r\n",
    "        print(f'{repo} avg.: 0')"
   ],
   "outputs": [
    {
     "output_type": "stream",
     "name": "stdout",
     "text": [
      "TU avg.: 3.34\n",
      "HU avg.: 1.46\n",
      "FU avg.: 0\n"
     ]
    }
   ],
   "metadata": {}
  },
  {
   "cell_type": "code",
   "execution_count": 7,
   "source": [
    "sorted_people = {'TU': {}, 'HU': {}, 'FU': {}}\r\n",
    "for repo in sorted_people:\r\n",
    "    sorted_people[repo] = {person: n for person, n in sorted(people[repo].items(), key=lambda item: item[1], reverse=True)}"
   ],
   "outputs": [],
   "metadata": {}
  },
  {
   "cell_type": "code",
   "execution_count": 8,
   "source": [
    "for repo in sorted_people:\r\n",
    "    print(repo)\r\n",
    "    cnt = 0\r\n",
    "    for key in sorted_people[repo]:\r\n",
    "        print(key, sorted_people[repo][key])\r\n",
    "        cnt += 1\r\n",
    "        if cnt == 5:\r\n",
    "            print()\r\n",
    "            break"
   ],
   "outputs": [
    {
     "output_type": "stream",
     "name": "stdout",
     "text": [
      "TU\n",
      "Müller, Klaus-Robert 47\n",
      "Lauster, Roland 45\n",
      "Obermayer, Klaus 44\n",
      "Schlögl, Robert 44\n",
      "Schomäcker, Reinhard 41\n",
      "\n",
      "HU\n",
      "Härdle, Wolfgang 6\n",
      "Rönz, Bernd 2\n",
      "RR 54663 1\n",
      "Schulz, Franziska 1\n",
      "Klinke, Sigbert 1\n",
      "\n",
      "FU\n"
     ]
    }
   ],
   "metadata": {}
  },
  {
   "cell_type": "code",
   "execution_count": 16,
   "source": [
    "for repo in sorted_people:\r\n",
    "    cnt = 0\r\n",
    "    for key, value in sorted_people[repo].items():\r\n",
    "        if value > 10:\r\n",
    "            cnt += 1\r\n",
    "        else:\r\n",
    "            print(repo, cnt)\r\n",
    "            break\r\n"
   ],
   "outputs": [
    {
     "output_type": "stream",
     "name": "stdout",
     "text": [
      "TU 84\n",
      "HU 0\n"
     ]
    }
   ],
   "metadata": {}
  },
  {
   "cell_type": "code",
   "execution_count": null,
   "source": [],
   "outputs": [],
   "metadata": {}
  }
 ],
 "metadata": {
  "orig_nbformat": 4,
  "language_info": {
   "name": "python",
   "version": "3.7.6",
   "mimetype": "text/x-python",
   "codemirror_mode": {
    "name": "ipython",
    "version": 3
   },
   "pygments_lexer": "ipython3",
   "nbconvert_exporter": "python",
   "file_extension": ".py"
  },
  "kernelspec": {
   "name": "python3",
   "display_name": "Python 3.7.6 64-bit ('base': conda)"
  },
  "interpreter": {
   "hash": "afec8bd1b97d7d536c9012edeeda7c68a0e99e84af90a3d324c5b7b0f06b2586"
  }
 },
 "nbformat": 4,
 "nbformat_minor": 2
}