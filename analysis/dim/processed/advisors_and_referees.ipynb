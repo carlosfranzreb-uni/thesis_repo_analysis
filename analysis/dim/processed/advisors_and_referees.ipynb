{
 "cells": [
  {
   "cell_type": "markdown",
   "source": [
    "As shown in `fill_quota.ipynb`, the theses of all three repositories contain referees, whereas only depositonce has a maintained list of advisors. Therefore, referees could be used as a substitute for venues. In refubium the most popular referee is \"N.N.\", which means that there isn't one. Therefore, we don't count it."
   ],
   "metadata": {}
  },
  {
   "cell_type": "code",
   "execution_count": 1,
   "source": [
    "import json\r\n",
    "from matplotlib import pyplot as plt\r\n",
    "from collections import Counter\r\n",
    "import re"
   ],
   "outputs": [],
   "metadata": {}
  },
  {
   "cell_type": "code",
   "execution_count": 2,
   "source": [
    "tu = json.load(open('../../../data/processed/dim/depositonce.json'))\r\n",
    "hu = json.load(open('../../../data/processed/dim/edoc.json'))\r\n",
    "fu = json.load(open('../../../data/processed/dim/refubium.json'))"
   ],
   "outputs": [],
   "metadata": {}
  },
  {
   "cell_type": "code",
   "execution_count": 3,
   "source": [
    "referees = {'TU': {'total': 0, 'distinct': 0}, 'HU': {'total': 0, 'distinct': 0}, 'FU': {'total': 0, 'distinct': 0}}\r\n",
    "seen_referees = {'TU': [], 'HU': [], 'FU': []}\r\n",
    "nulls = {'TU': 0, 'HU': 0, 'FU': 0}\r\n",
    "totals = {'TU': 0, 'HU': 0, 'FU': 0}\r\n",
    "repos = ['TU', 'HU', 'FU']\r\n",
    "for i, repo in enumerate([tu, hu, fu]):\r\n",
    "    for doc in repo:\r\n",
    "        totals[repos[i]] += 1\r\n",
    "        if doc['type'][1] == 'thesis':\r\n",
    "            has_referee = False\r\n",
    "            for author in doc['authors']:\r\n",
    "                if author[1] in ('advisor', 'referee') and re.match('N.[\\s]?N[\\.]?', author[0]) is None:\r\n",
    "                    has_referee = True\r\n",
    "                    referees[repos[i]]['total'] += 1\r\n",
    "                    if author[0] not in seen_referees[repos[i]]:\r\n",
    "                        referees[repos[i]]['distinct'] += 1\r\n",
    "                        seen_referees[repos[i]].append(author[0])\r\n",
    "            if not has_referee:\r\n",
    "                nulls[repos[i]] += 1"
   ],
   "outputs": [],
   "metadata": {}
  },
  {
   "cell_type": "code",
   "execution_count": 4,
   "source": [
    "for repo in referees:\r\n",
    "    print(f'{repo} has {referees[repo][\"total\"]} experts, {referees[repo][\"distinct\"]} distinct ones. {nulls[repo]} documents do not have an expert ({round(nulls[repo]/totals[repo], 2)}).')"
   ],
   "outputs": [
    {
     "output_type": "stream",
     "name": "stdout",
     "text": [
      "TU has 8383 experts, 2785 distinct ones. 5 documents do not have an referee (0.0).\n",
      "HU has 7308 experts, 3395 distinct ones. 30 documents do not have an referee (0.0).\n",
      "FU has 9133 experts, 4863 distinct ones. 662 documents do not have an referee (0.05).\n"
     ]
    }
   ],
   "metadata": {}
  },
  {
   "cell_type": "markdown",
   "source": [
    "What is the avg. number of referees per thesis?"
   ],
   "metadata": {}
  },
  {
   "cell_type": "code",
   "execution_count": 5,
   "source": [
    "referees_per_doc = {'TU': [], 'HU': [], 'FU': []}\r\n",
    "for i, repo in enumerate([tu, hu, fu]):\r\n",
    "    for doc in repo:\r\n",
    "        cnt = 0\r\n",
    "        for author in doc['authors']:\r\n",
    "            if author[1] in ('advisor', 'referee') and re.match('N.[\\s]?N[\\.]?', author[0]) is None:\r\n",
    "                cnt += 1\r\n",
    "        if cnt > 0:\r\n",
    "            referees_per_doc[repos[i]].append(cnt)"
   ],
   "outputs": [],
   "metadata": {}
  },
  {
   "cell_type": "code",
   "execution_count": 6,
   "source": [
    "for repo in referees_per_doc:\r\n",
    "    print(repo, sum(referees_per_doc[repo]) / len(referees_per_doc[repo]))"
   ],
   "outputs": [
    {
     "output_type": "stream",
     "name": "stdout",
     "text": [
      "TU 2.5565721256480636\n",
      "HU 2.7639939485627836\n",
      "FU 2.1991331567541534\n"
     ]
    }
   ],
   "metadata": {}
  },
  {
   "cell_type": "markdown",
   "source": [
    "Check in how many documents each author occurs."
   ],
   "metadata": {}
  },
  {
   "cell_type": "code",
   "execution_count": 7,
   "source": [
    "people = {'TU': {}, 'HU': {}, 'FU': {}}\r\n",
    "for i, repo in enumerate([tu, hu, fu]):\r\n",
    "    for doc in repo:\r\n",
    "        if doc['type'][1] == 'thesis':\r\n",
    "            for author in doc['authors']:\r\n",
    "                if author[1] in ('advisor', 'referee') and re.match('N.[\\s]?N[\\.]?', author[0]) is None:\r\n",
    "                    if author[0] in people[repos[i]]:\r\n",
    "                        people[repos[i]][author[0]] += 1\r\n",
    "                    else:\r\n",
    "                        people[repos[i]][author[0]] = 1"
   ],
   "outputs": [],
   "metadata": {}
  },
  {
   "cell_type": "code",
   "execution_count": 8,
   "source": [
    "for repo in people:\r\n",
    "    if len(people[repo]) > 0:\r\n",
    "        print(f'{repo} avg.: {round(sum(people[repo].values())/len(people[repo]), 2)}')\r\n",
    "    else:\r\n",
    "        print(f'{repo} avg.: 0')"
   ],
   "outputs": [
    {
     "output_type": "stream",
     "name": "stdout",
     "text": [
      "TU avg.: 3.01\n",
      "HU avg.: 2.15\n",
      "FU avg.: 1.88\n"
     ]
    }
   ],
   "metadata": {}
  },
  {
   "cell_type": "code",
   "execution_count": 9,
   "source": [
    "sorted_people = {'TU': {}, 'HU': {}, 'FU': {}}\r\n",
    "for repo in sorted_people:\r\n",
    "    sorted_people[repo] = {person: n for person, n in sorted(people[repo].items(), key=lambda item: item[1], reverse=True)}"
   ],
   "outputs": [],
   "metadata": {}
  },
  {
   "cell_type": "code",
   "execution_count": 10,
   "source": [
    "for repo in sorted_people:\r\n",
    "    print(repo)\r\n",
    "    cnt = 0\r\n",
    "    for key in sorted_people[repo]:\r\n",
    "        print(key, sorted_people[repo][key])\r\n",
    "        cnt += 1\r\n",
    "        if cnt == 5:\r\n",
    "            print()\r\n",
    "            break"
   ],
   "outputs": [
    {
     "output_type": "stream",
     "name": "stdout",
     "text": [
      "TU\n",
      "Lauster, Roland 89\n",
      "Müller, Klaus-Robert 82\n",
      "Neubauer, Peter 80\n",
      "Schomäcker, Reinhard 76\n",
      "Knorr, Andreas 75\n",
      "\n",
      "HU\n",
      "Härdle, Wolfgang 66\n",
      "Lohse, Thomas 60\n",
      "Benson, Oliver 55\n",
      "Herrmann, Andreas 50\n",
      "Härdle, Wolfgang Karl 47\n",
      "\n",
      "FU\n",
      "Prof. Dr. Rupert Mutzel 72\n",
      "Prof. Dr. Rainer Haag 65\n",
      "Prof. Dr. Udo Heinemann 49\n",
      "Prof. Dr. Martin Vingron 49\n",
      "Prof. Dr. Petra Knaus 41\n",
      "\n"
     ]
    }
   ],
   "metadata": {}
  },
  {
   "cell_type": "code",
   "execution_count": 11,
   "source": [
    "for repo in sorted_people:\r\n",
    "    cnt = 0\r\n",
    "    for key, value in sorted_people[repo].items():\r\n",
    "        if value > 10:\r\n",
    "            cnt += 1\r\n",
    "        else:\r\n",
    "            print(repo, cnt)\r\n",
    "            break\r\n"
   ],
   "outputs": [
    {
     "output_type": "stream",
     "name": "stdout",
     "text": [
      "TU 157\n",
      "HU 97\n",
      "FU 88\n"
     ]
    }
   ],
   "metadata": {}
  }
 ],
 "metadata": {
  "orig_nbformat": 4,
  "language_info": {
   "name": "python",
   "version": "3.7.6",
   "mimetype": "text/x-python",
   "codemirror_mode": {
    "name": "ipython",
    "version": 3
   },
   "pygments_lexer": "ipython3",
   "nbconvert_exporter": "python",
   "file_extension": ".py"
  },
  "kernelspec": {
   "name": "python3",
   "display_name": "Python 3.7.6 64-bit ('base': conda)"
  },
  "interpreter": {
   "hash": "afec8bd1b97d7d536c9012edeeda7c68a0e99e84af90a3d324c5b7b0f06b2586"
  }
 },
 "nbformat": 4,
 "nbformat_minor": 2
}