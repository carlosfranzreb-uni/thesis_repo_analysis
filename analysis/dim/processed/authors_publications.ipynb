{
 "cells": [
  {
   "cell_type": "markdown",
   "source": [
    "As shown in `fill_quota.ipynb`, the theses of all three repositories contain referees, whereas only depositonce has a maintained list of advisors. Therefore, referees could be used as a substitute for venues."
   ],
   "metadata": {}
  },
  {
   "cell_type": "code",
   "execution_count": 26,
   "source": [
    "import json\r\n",
    "from matplotlib import pyplot as plt\r\n",
    "from collections import Counter"
   ],
   "outputs": [],
   "metadata": {}
  },
  {
   "cell_type": "code",
   "execution_count": 27,
   "source": [
    "tu = json.load(open('../../../data/processed/dim/depositonce.json'))\r\n",
    "hu = json.load(open('../../../data/processed/dim/edoc.json'))\r\n",
    "fu = json.load(open('../../../data/processed/dim/refubium.json'))"
   ],
   "outputs": [],
   "metadata": {}
  },
  {
   "cell_type": "code",
   "execution_count": 28,
   "source": [
    "authors = {'TU': {'total': 0, 'distinct': 0}, 'HU': {'total': 0, 'distinct': 0}, 'FU': {'total': 0, 'distinct': 0}}\r\n",
    "seen_authors = {'TU': [], 'HU': [], 'FU': []}\r\n",
    "nulls = {'TU': 0, 'HU': 0, 'FU': 0}\r\n",
    "totals = {'TU': 0, 'HU': 0, 'FU': 0}\r\n",
    "repos = ['TU', 'HU', 'FU']\r\n",
    "for i, repo in enumerate([tu, hu, fu]):\r\n",
    "    for doc in repo:\r\n",
    "        if doc['type'][1] == 'publication':\r\n",
    "            totals[repos[i]] += 1\r\n",
    "            has_author = False\r\n",
    "            for author in doc['authors']:\r\n",
    "                if author[1] == 'author':\r\n",
    "                    has_author = True\r\n",
    "                    authors[repos[i]]['total'] += 1\r\n",
    "                    if author[0] not in seen_authors[repos[i]]:\r\n",
    "                        authors[repos[i]]['distinct'] += 1\r\n",
    "                        seen_authors[repos[i]].append(author[0])\r\n",
    "            if not has_author:\r\n",
    "                nulls[repos[i]] += 1"
   ],
   "outputs": [],
   "metadata": {}
  },
  {
   "cell_type": "code",
   "execution_count": 29,
   "source": [
    "for repo in authors:\r\n",
    "    print(f'{repo} has {authors[repo][\"total\"]} authors, {authors[repo][\"distinct\"]} distinct ones. {nulls[repo]} documents do not have an author ({round(nulls[repo]/totals[repo], 2)}).')"
   ],
   "outputs": [
    {
     "output_type": "stream",
     "name": "stdout",
     "text": [
      "TU has 18421 authors, 10581 distinct ones. 63 documents do not have an author (0.02).\n",
      "HU has 12872 authors, 7778 distinct ones. 0 documents do not have an author (0.0).\n",
      "FU has 52997 authors, 32817 distinct ones. 144 documents do not have an author (0.01).\n"
     ]
    }
   ],
   "metadata": {}
  },
  {
   "cell_type": "markdown",
   "source": [
    "Check in how many documents each author occurs."
   ],
   "metadata": {}
  },
  {
   "cell_type": "code",
   "execution_count": 30,
   "source": [
    "people = {'TU': {}, 'HU': {}, 'FU': {}}\r\n",
    "for i, repo in enumerate([tu, hu, fu]):\r\n",
    "    for doc in repo:\r\n",
    "        if doc['type'][1] == 'publication':\r\n",
    "            for author in doc['authors']:\r\n",
    "                if author[1] == 'author':\r\n",
    "                    if author[0] in people[repos[i]]:\r\n",
    "                        people[repos[i]][author[0]] += 1\r\n",
    "                    else:\r\n",
    "                        people[repos[i]][author[0]] = 1"
   ],
   "outputs": [],
   "metadata": {}
  },
  {
   "cell_type": "code",
   "execution_count": 31,
   "source": [
    "for repo in people:\r\n",
    "    if len(people[repo]) > 0:\r\n",
    "        print(f'{repo} avg.: {round(sum(people[repo].values())/len(people[repo]), 2)}')\r\n",
    "    else:\r\n",
    "        print(f'{repo} avg.: 0')"
   ],
   "outputs": [
    {
     "output_type": "stream",
     "name": "stdout",
     "text": [
      "TU avg.: 1.74\n",
      "HU avg.: 1.65\n",
      "FU avg.: 1.61\n"
     ]
    }
   ],
   "metadata": {}
  },
  {
   "cell_type": "code",
   "execution_count": 32,
   "source": [
    "sorted_people = {'TU': {}, 'HU': {}, 'FU': {}}\r\n",
    "for repo in sorted_people:\r\n",
    "    sorted_people[repo] = {person: n for person, n in sorted(people[repo].items(), key=lambda item: item[1], reverse=True)}"
   ],
   "outputs": [],
   "metadata": {}
  },
  {
   "cell_type": "code",
   "execution_count": 33,
   "source": [
    "for repo in sorted_people:\r\n",
    "    print(repo)\r\n",
    "    cnt = 0\r\n",
    "    for key in sorted_people[repo]:\r\n",
    "        print(key, sorted_people[repo][key])\r\n",
    "        cnt += 1\r\n",
    "        if cnt == 5:\r\n",
    "            print()\r\n",
    "            break"
   ],
   "outputs": [
    {
     "output_type": "stream",
     "name": "stdout",
     "text": [
      "TU\n",
      "Nagel, Kai 143\n",
      "Juurlink, Ben 73\n",
      "Popov, Valentin L. 66\n",
      "Neubauer, Peter 56\n",
      "Finkbeiner, Matthias 48\n",
      "\n",
      "HU\n",
      "Härdle, Wolfgang 143\n",
      "Geiser, Jürgen 61\n",
      "Härdle, Wolfgang Karl 60\n",
      "Seadle, Michael 57\n",
      "Güth, Werner 45\n",
      "\n",
      "FU\n",
      "Haag, Rainer 92\n",
      "Eisert, Jens 73\n",
      "Rillig, Matthias C. 71\n",
      "Netz, Roland R. 65\n",
      "Paul, Friedemann 56\n",
      "\n"
     ]
    }
   ],
   "metadata": {}
  },
  {
   "cell_type": "code",
   "execution_count": 36,
   "source": [
    "multiple_authors = {'TU': 0, 'HU': 0, 'FU': 0}\r\n",
    "for i, repo in enumerate([tu, hu, fu]):\r\n",
    "    for doc in repo:\r\n",
    "        if doc['type'][1] == 'publication':\r\n",
    "            cnt = 0\r\n",
    "            for author in doc['authors']:\r\n",
    "                if author[1] == 'author':\r\n",
    "                    cnt += 1\r\n",
    "            if cnt > 1:\r\n",
    "                multiple_authors[repos[i]] += 1"
   ],
   "outputs": [],
   "metadata": {}
  },
  {
   "cell_type": "code",
   "execution_count": 37,
   "source": [
    "multiple_authors, totals"
   ],
   "outputs": [
    {
     "output_type": "execute_result",
     "data": {
      "text/plain": [
       "({'TU': 3699, 'HU': 3065, 'FU': 8117},\n",
       " {'TU': 4154, 'HU': 4823, 'FU': 9649},\n",
       " 18626)"
      ]
     },
     "metadata": {},
     "execution_count": 37
    }
   ],
   "metadata": {}
  },
  {
   "cell_type": "code",
   "execution_count": 38,
   "source": [
    "sum(multiple_authors.values()), sum(multiple_authors.values()) / sum(totals.values())"
   ],
   "outputs": [
    {
     "output_type": "execute_result",
     "data": {
      "text/plain": [
       "(14881, 0.7989369698271234)"
      ]
     },
     "metadata": {},
     "execution_count": 38
    }
   ],
   "metadata": {}
  },
  {
   "cell_type": "code",
   "execution_count": null,
   "source": [],
   "outputs": [],
   "metadata": {}
  }
 ],
 "metadata": {
  "orig_nbformat": 4,
  "language_info": {
   "name": "python",
   "version": "3.7.6",
   "mimetype": "text/x-python",
   "codemirror_mode": {
    "name": "ipython",
    "version": 3
   },
   "pygments_lexer": "ipython3",
   "nbconvert_exporter": "python",
   "file_extension": ".py"
  },
  "kernelspec": {
   "name": "python3",
   "display_name": "Python 3.7.6 64-bit ('base': conda)"
  },
  "interpreter": {
   "hash": "afec8bd1b97d7d536c9012edeeda7c68a0e99e84af90a3d324c5b7b0f06b2586"
  }
 },
 "nbformat": 4,
 "nbformat_minor": 2
}