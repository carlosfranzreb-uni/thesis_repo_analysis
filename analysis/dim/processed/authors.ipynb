{
 "cells": [
  {
   "cell_type": "markdown",
   "source": [
    "As shown in `fill_quota.ipynb`, the theses of all three repositories contain referees, whereas only depositonce has a maintained list of advisors. Therefore, referees could be used as a substitute for venues."
   ],
   "metadata": {}
  },
  {
   "cell_type": "code",
   "execution_count": 9,
   "source": [
    "import json\r\n",
    "from matplotlib import pyplot as plt\r\n",
    "from collections import Counter"
   ],
   "outputs": [],
   "metadata": {}
  },
  {
   "cell_type": "code",
   "execution_count": 10,
   "source": [
    "tu = json.load(open('../../../data/processed/dim/depositonce.json'))\r\n",
    "hu = json.load(open('../../../data/processed/dim/edoc.json'))\r\n",
    "fu = json.load(open('../../../data/processed/dim/refubium.json'))"
   ],
   "outputs": [],
   "metadata": {}
  },
  {
   "cell_type": "code",
   "execution_count": 11,
   "source": [
    "authors = {'TU': {'total': 0, 'distinct': 0}, 'HU': {'total': 0, 'distinct': 0}, 'FU': {'total': 0, 'distinct': 0}}\r\n",
    "seen_authors = {'TU': [], 'HU': [], 'FU': []}\r\n",
    "nulls = {'TU': 0, 'HU': 0, 'FU': 0}\r\n",
    "totals = {'TU': 0, 'HU': 0, 'FU': 0}\r\n",
    "repos = ['TU', 'HU', 'FU']\r\n",
    "for i, repo in enumerate([tu, hu, fu]):\r\n",
    "    for doc in repo:\r\n",
    "        totals[repos[i]] += 1\r\n",
    "        has_author = False\r\n",
    "        for author in doc['authors']:\r\n",
    "            if author[1] == 'author':\r\n",
    "                has_author = True\r\n",
    "                authors[repos[i]]['total'] += 1\r\n",
    "                if author[0] not in seen_authors[repos[i]]:\r\n",
    "                    authors[repos[i]]['distinct'] += 1\r\n",
    "                    seen_authors[repos[i]].append(author[0])\r\n",
    "        if not has_author:\r\n",
    "            nulls[repos[i]] += 1"
   ],
   "outputs": [],
   "metadata": {}
  },
  {
   "cell_type": "code",
   "execution_count": 12,
   "source": [
    "for repo in authors:\r\n",
    "    print(f'{repo} has {authors[repo][\"total\"]} authors, {authors[repo][\"distinct\"]} distinct ones. {nulls[repo]} documents do not have an author ({round(nulls[repo]/totals[repo], 2)}).')"
   ],
   "outputs": [
    {
     "output_type": "stream",
     "name": "stdout",
     "text": [
      "TU has 21705 authors, 13196 distinct ones. 63 documents do not have an author (0.01).\n",
      "HU has 15548 authors, 10113 distinct ones. 0 documents do not have an author (0.0).\n",
      "FU has 57812 authors, 36309 distinct ones. 144 documents do not have an author (0.01).\n"
     ]
    }
   ],
   "metadata": {}
  },
  {
   "cell_type": "markdown",
   "source": [
    "Check in how many documents each author occurs."
   ],
   "metadata": {}
  },
  {
   "cell_type": "code",
   "execution_count": 13,
   "source": [
    "people = {'TU': {}, 'HU': {}, 'FU': {}}\r\n",
    "for i, repo in enumerate([tu, hu, fu]):\r\n",
    "    for doc in repo:\r\n",
    "        for author in doc['authors']:\r\n",
    "            if author[1] == 'author':\r\n",
    "                if author[0] in people[repos[i]]:\r\n",
    "                    people[repos[i]][author[0]] += 1\r\n",
    "                else:\r\n",
    "                    people[repos[i]][author[0]] = 1"
   ],
   "outputs": [],
   "metadata": {}
  },
  {
   "cell_type": "code",
   "execution_count": 14,
   "source": [
    "for repo in people:\r\n",
    "    if len(people[repo]) > 0:\r\n",
    "        print(f'{repo} avg.: {round(sum(people[repo].values())/len(people[repo]), 2)}')\r\n",
    "    else:\r\n",
    "        print(f'{repo} avg.: 0')"
   ],
   "outputs": [
    {
     "output_type": "stream",
     "name": "stdout",
     "text": [
      "TU avg.: 1.64\n",
      "HU avg.: 1.54\n",
      "FU avg.: 1.59\n"
     ]
    }
   ],
   "metadata": {}
  },
  {
   "cell_type": "code",
   "execution_count": 15,
   "source": [
    "sorted_people = {'TU': {}, 'HU': {}, 'FU': {}}\r\n",
    "for repo in sorted_people:\r\n",
    "    sorted_people[repo] = {person: n for person, n in sorted(people[repo].items(), key=lambda item: item[1], reverse=True)}"
   ],
   "outputs": [],
   "metadata": {}
  },
  {
   "cell_type": "code",
   "execution_count": 16,
   "source": [
    "for repo in sorted_people:\r\n",
    "    print(repo)\r\n",
    "    cnt = 0\r\n",
    "    for key in sorted_people[repo]:\r\n",
    "        print(key, sorted_people[repo][key])\r\n",
    "        cnt += 1\r\n",
    "        if cnt == 5:\r\n",
    "            print()\r\n",
    "            break"
   ],
   "outputs": [
    {
     "output_type": "stream",
     "name": "stdout",
     "text": [
      "TU\n",
      "Nagel, Kai 143\n",
      "Juurlink, Ben 73\n",
      "Popov, Valentin L. 66\n",
      "Neubauer, Peter 56\n",
      "Finkbeiner, Matthias 48\n",
      "\n",
      "HU\n",
      "Härdle, Wolfgang 143\n",
      "Geiser, Jürgen 61\n",
      "Härdle, Wolfgang Karl 60\n",
      "Seadle, Michael 57\n",
      "Güth, Werner 45\n",
      "\n",
      "FU\n",
      "Haag, Rainer 92\n",
      "Eisert, Jens 73\n",
      "Rillig, Matthias C. 71\n",
      "Netz, Roland R. 65\n",
      "Paul, Friedemann 56\n",
      "\n"
     ]
    }
   ],
   "metadata": {}
  },
  {
   "cell_type": "code",
   "execution_count": 19,
   "source": [
    "(207 / sum(totals.values())) *100"
   ],
   "outputs": [
    {
     "output_type": "execute_result",
     "data": {
      "text/plain": [
       "0.704105581822511"
      ]
     },
     "metadata": {},
     "execution_count": 19
    }
   ],
   "metadata": {}
  },
  {
   "cell_type": "code",
   "execution_count": 20,
   "source": [
    "sum(totals.values())"
   ],
   "outputs": [
    {
     "output_type": "execute_result",
     "data": {
      "text/plain": [
       "29399"
      ]
     },
     "metadata": {},
     "execution_count": 20
    }
   ],
   "metadata": {}
  },
  {
   "cell_type": "code",
   "execution_count": null,
   "source": [],
   "outputs": [],
   "metadata": {}
  }
 ],
 "metadata": {
  "orig_nbformat": 4,
  "language_info": {
   "name": "python",
   "version": "3.7.6",
   "mimetype": "text/x-python",
   "codemirror_mode": {
    "name": "ipython",
    "version": 3
   },
   "pygments_lexer": "ipython3",
   "nbconvert_exporter": "python",
   "file_extension": ".py"
  },
  "kernelspec": {
   "name": "python3",
   "display_name": "Python 3.7.6 64-bit ('base': conda)"
  },
  "interpreter": {
   "hash": "afec8bd1b97d7d536c9012edeeda7c68a0e99e84af90a3d324c5b7b0f06b2586"
  }
 },
 "nbformat": 4,
 "nbformat_minor": 2
}